{
  "nbformat": 4,
  "nbformat_minor": 0,
  "metadata": {
    "colab": {
      "provenance": []
    },
    "kernelspec": {
      "name": "python3",
      "display_name": "Python 3"
    },
    "language_info": {
      "name": "python"
    }
  },
  "cells": [
    {
      "cell_type": "code",
      "execution_count": null,
      "metadata": {
        "id": "vUUu3eNyk2Vs"
      },
      "outputs": [],
      "source": [
        "import tensorflow as tf\n",
        "import numpy as np\n",
        "from tensorflow.keras.layers import Conv1D, Input, Dense\n",
        "from tensorflow.keras.models import Model"
      ]
    },
    {
      "cell_type": "code",
      "source": [
        "input_array = np.array(\n",
        "    [9,0,9,0,9,0,9,0,9]\n",
        ")\n",
        "input_array = input_array.reshape([1,9,1])\n",
        "\n",
        "\n",
        "filter_ = np.array(\n",
        "    #your code\n",
        ")\n",
        "\n",
        "filter_ = filter_.reshape(4,1,1)\n"
      ],
      "metadata": {
        "id": "IDhP_0p1laT1"
      },
      "execution_count": null,
      "outputs": []
    },
    {
      "cell_type": "code",
      "source": [
        "input_tensor = Input(shape=[9, 1])\n",
        "layer = Conv1D(filters=#your code, kernel_size=4, use_bias=False)(input_tensor)\n",
        "\n",
        "model = Model(input_tensor, layer)\n",
        "model.layers[1].set_weights([filter_])"
      ],
      "metadata": {
        "id": "DLVnyR5lp4Ez"
      },
      "execution_count": null,
      "outputs": []
    },
    {
      "cell_type": "markdown",
      "source": [
        "#Intent Classification\n",
        "Packages"
      ],
      "metadata": {
        "id": "FY47OkvPD4op"
      }
    },
    {
      "cell_type": "code",
      "source": [
        "model.predict(input_array)"
      ],
      "metadata": {
        "colab": {
          "base_uri": "https://localhost:8080/"
        },
        "id": "s7l_Ox4crEjJ",
        "outputId": "c0e5e0cb-8ecd-48b4-c551-59717665fa45"
      },
      "execution_count": null,
      "outputs": [
        {
          "output_type": "stream",
          "name": "stdout",
          "text": [
            "1/1 [==============================] - 0s 54ms/step\n"
          ]
        },
        {
          "output_type": "execute_result",
          "data": {
            "text/plain": [
              "array([[[9.],\n",
              "        [9.],\n",
              "        [9.],\n",
              "        [9.],\n",
              "        [9.],\n",
              "        [9.]]], dtype=float32)"
            ]
          },
          "metadata": {},
          "execution_count": 40
        }
      ]
    },
    {
      "cell_type": "code",
      "source": [
        "import os\n",
        "import pandas as pd\n",
        "import numpy as np\n",
        "import matplotlib.pyplot as plt\n",
        "%matplotlib inline\n",
        "\n",
        "from sklearn import preprocessing\n",
        "from tensorflow.keras.preprocessing.text import Tokenizer\n",
        "from tensorflow.keras.preprocessing.sequence import pad_sequences\n",
        "from tensorflow.keras.utils import to_categorical\n",
        "from tensorflow.keras.models import Model\n",
        "from tensorflow.keras.layers import Embedding, Dropout, Conv1D, GlobalMaxPooling1D, Dense, Input, Flatten, Concatenate\n",
        "from sklearn.metrics import classification_report\n",
        "import urllib.request\n",
        "\n",
        "urllib.request.urlretrieve(\"https://github.com/ajinkyaT/CNN_Intent_Classification/raw/master/data/train_text.npy\", filename=\"train_text.npy\")\n",
        "urllib.request.urlretrieve(\"https://github.com/ajinkyaT/CNN_Intent_Classification/raw/master/data/test_text.npy\", filename=\"test_text.npy\")\n",
        "urllib.request.urlretrieve(\"https://github.com/ajinkyaT/CNN_Intent_Classification/raw/master/data/train_label.npy\", filename=\"train_label.npy\")\n",
        "urllib.request.urlretrieve(\"https://github.com/ajinkyaT/CNN_Intent_Classification/raw/master/data/test_label.npy\", filename=\"test_label.npy\")"
      ],
      "metadata": {
        "colab": {
          "base_uri": "https://localhost:8080/"
        },
        "id": "ValcvbxQD3FL",
        "outputId": "eeebcd65-2378-4172-991e-f1440c3118f3"
      },
      "execution_count": null,
      "outputs": [
        {
          "output_type": "execute_result",
          "data": {
            "text/plain": [
              "('test_label.npy', <http.client.HTTPMessage at 0x7f7fe6e0a670>)"
            ]
          },
          "metadata": {},
          "execution_count": 1
        }
      ]
    },
    {
      "cell_type": "code",
      "source": [
        "old = np.load\n",
        "np.load = lambda *a,**k: old(*a, allow_pickle=True, **k)"
      ],
      "metadata": {
        "id": "qZrwkxQOEKOZ"
      },
      "execution_count": null,
      "outputs": []
    },
    {
      "cell_type": "code",
      "source": [
        "intent_train = np.load(open('train_text.npy', 'rb')).tolist()\n",
        "label_train = np.load(open('train_label.npy', 'rb')).tolist()\n",
        "\n",
        "intent_test = np.load(open('test_text.npy', 'rb')).tolist()\n",
        "label_test = np.load(open('test_label.npy', 'rb')).tolist()"
      ],
      "metadata": {
        "id": "_JGJRNTZELZI"
      },
      "execution_count": null,
      "outputs": []
    },
    {
      "cell_type": "code",
      "source": [
        "print('훈련용 문장의 수 :', len(intent_train))\n",
        "print('훈련용 레이블의 수 :', len(label_train))\n",
        "print('테스트용 문장의 수 :', len(intent_test))\n",
        "print('테스트용 레이블의 수 :', len(label_test))"
      ],
      "metadata": {
        "colab": {
          "base_uri": "https://localhost:8080/"
        },
        "id": "M0hbKRp4EWF2",
        "outputId": "e6a869f9-0fa4-4e53-e996-3f1315d4a5be"
      },
      "execution_count": null,
      "outputs": [
        {
          "output_type": "stream",
          "name": "stdout",
          "text": [
            "훈련용 문장의 수 : 11784\n",
            "훈련용 레이블의 수 : 11784\n",
            "테스트용 문장의 수 : 600\n",
            "테스트용 레이블의 수 : 600\n"
          ]
        }
      ]
    },
    {
      "cell_type": "code",
      "source": [
        "temp = pd.Series(label_train)\n",
        "temp.value_counts().plot(kind = 'bar',color='orange')"
      ],
      "metadata": {
        "colab": {
          "base_uri": "https://localhost:8080/",
          "height": 589
        },
        "id": "9E8mB4MzEYy-",
        "outputId": "8d1797f0-a83e-495d-85c7-6d04e86a61eb"
      },
      "execution_count": null,
      "outputs": [
        {
          "output_type": "execute_result",
          "data": {
            "text/plain": [
              "<Axes: >"
            ]
          },
          "metadata": {},
          "execution_count": 5
        },
        {
          "output_type": "display_data",
          "data": {
            "text/plain": [
              "<Figure size 640x480 with 1 Axes>"
            ],
            "image/png": "[encoded data removed]"
          },
          "metadata": {}
        }
      ]
    },
    {
      "cell_type": "markdown",
      "source": [
        "Encoding"
      ],
      "metadata": {
        "id": "bkf-obxEEd48"
      }
    },
    {
      "cell_type": "code",
      "source": [
        "idx_encode = preprocessing.LabelEncoder()\n",
        "idx_encode.fit(label_train)"
      ],
      "metadata": {
        "colab": {
          "base_uri": "https://localhost:8080/",
          "height": 74
        },
        "id": "cb0ZxjccEbgo",
        "outputId": "1ebf22d9-82f8-468f-9ce8-13097b140fdb"
      },
      "execution_count": null,
      "outputs": [
        {
          "output_type": "execute_result",
          "data": {
            "text/plain": [
              "LabelEncoder()"
            ],
            "text/html": [
              "<style>#sk-container-id-1 {color: black;background-color: white;}#sk-container-id-1 pre{padding: 0;}#sk-container-id-1 div.sk-toggleable {background-color: white;}#sk-container-id-1 label.sk-toggleable__label {cursor: pointer;display: block;width: 100%;margin-bottom: 0;padding: 0.3em;box-sizing: border-box;text-align: center;}#sk-container-id-1 label.sk-toggleable__label-arrow:before {content: \"▸\";float: left;margin-right: 0.25em;color: #696969;}#sk-container-id-1 label.sk-toggleable__label-arrow:hover:before {color: black;}#sk-container-id-1 div.sk-estimator:hover label.sk-toggleable__label-arrow:before {color: black;}#sk-container-id-1 div.sk-toggleable__content {max-height: 0;max-width: 0;overflow: hidden;text-align: left;background-color: #f0f8ff;}#sk-container-id-1 div.sk-toggleable__content pre {margin: 0.2em;color: black;border-radius: 0.25em;background-color: #f0f8ff;}#sk-container-id-1 input.sk-toggleable__control:checked~div.sk-toggleable__content {max-height: 200px;max-width: 100%;overflow: auto;}#sk-container-id-1 input.sk-toggleable__control:checked~label.sk-toggleable__label-arrow:before {content: \"▾\";}#sk-container-id-1 div.sk-estimator input.sk-toggleable__control:checked~label.sk-toggleable__label {background-color: #d4ebff;}#sk-container-id-1 div.sk-label input.sk-toggleable__control:checked~label.sk-toggleable__label {background-color: #d4ebff;}#sk-container-id-1 input.sk-hidden--visually {border: 0;clip: rect(1px 1px 1px 1px);clip: rect(1px, 1px, 1px, 1px);height: 1px;margin: -1px;overflow: hidden;padding: 0;position: absolute;width: 1px;}#sk-container-id-1 div.sk-estimator {font-family: monospace;background-color: #f0f8ff;border: 1px dotted black;border-radius: 0.25em;box-sizing: border-box;margin-bottom: 0.5em;}#sk-container-id-1 div.sk-estimator:hover {background-color: #d4ebff;}#sk-container-id-1 div.sk-parallel-item::after {content: \"\";width: 100%;border-bottom: 1px solid gray;flex-grow: 1;}#sk-container-id-1 div.sk-label:hover label.sk-toggleable__label {background-color: #d4ebff;}#sk-container-id-1 div.sk-serial::before {content: \"\";position: absolute;border-left: 1px solid gray;box-sizing: border-box;top: 0;bottom: 0;left: 50%;z-index: 0;}#sk-container-id-1 div.sk-serial {display: flex;flex-direction: column;align-items: center;background-color: white;padding-right: 0.2em;padding-left: 0.2em;position: relative;}#sk-container-id-1 div.sk-item {position: relative;z-index: 1;}#sk-container-id-1 div.sk-parallel {display: flex;align-items: stretch;justify-content: center;background-color: white;position: relative;}#sk-container-id-1 div.sk-item::before, #sk-container-id-1 div.sk-parallel-item::before {content: \"\";position: absolute;border-left: 1px solid gray;box-sizing: border-box;top: 0;bottom: 0;left: 50%;z-index: -1;}#sk-container-id-1 div.sk-parallel-item {display: flex;flex-direction: column;z-index: 1;position: relative;background-color: white;}#sk-container-id-1 div.sk-parallel-item:first-child::after {align-self: flex-end;width: 50%;}#sk-container-id-1 div.sk-parallel-item:last-child::after {align-self: flex-start;width: 50%;}#sk-container-id-1 div.sk-parallel-item:only-child::after {width: 0;}#sk-container-id-1 div.sk-dashed-wrapped {border: 1px dashed gray;margin: 0 0.4em 0.5em 0.4em;box-sizing: border-box;padding-bottom: 0.4em;background-color: white;}#sk-container-id-1 div.sk-label label {font-family: monospace;font-weight: bold;display: inline-block;line-height: 1.2em;}#sk-container-id-1 div.sk-label-container {text-align: center;}#sk-container-id-1 div.sk-container {/* jupyter's `normalize.less` sets `[hidden] { display: none; }` but bootstrap.min.css set `[hidden] { display: none !important; }` so we also need the `!important` here to be able to override the default hidden behavior on the sphinx rendered scikit-learn.org. See: https://github.com/scikit-learn/scikit-learn/issues/21755 */display: inline-block !important;position: relative;}#sk-container-id-1 div.sk-text-repr-fallback {display: none;}</style><div id=\"sk-container-id-1\" class=\"sk-top-container\"><div class=\"sk-text-repr-fallback\"><pre>LabelEncoder()</pre><b>In a Jupyter environment, please rerun this cell to show the HTML representation or trust the notebook. <br />On GitHub, the HTML representation is unable to render, please try loading this page with nbviewer.org.</b></div><div class=\"sk-container\" hidden><div class=\"sk-item\"><div class=\"sk-estimator sk-toggleable\"><input class=\"sk-toggleable__control sk-hidden--visually\" id=\"sk-estimator-id-1\" type=\"checkbox\" checked><label for=\"sk-estimator-id-1\" class=\"sk-toggleable__label sk-toggleable__label-arrow\">LabelEncoder</label><div class=\"sk-toggleable__content\"><pre>LabelEncoder()</pre></div></div></div></div></div>"
            ]
          },
          "metadata": {},
          "execution_count": 6
        }
      ]
    },
    {
      "cell_type": "code",
      "source": [
        "label_train = idx_encode.#your code(label_train)\n",
        "label_test = idx_encode.#your code(label_test)\n",
        "\n",
        "label_idx = dict(zip(list(idx_encode.classes_), idx_encode.transform(list(idx_encode.classes_))))\n",
        "print(label_idx)\n"
      ],
      "metadata": {
        "colab": {
          "base_uri": "https://localhost:8080/"
        },
        "id": "nCEk0zlsEgt9",
        "outputId": "6f685ff0-a58d-4baf-ef5f-6f1c1021f466"
      },
      "execution_count": null,
      "outputs": [
        {
          "output_type": "stream",
          "name": "stdout",
          "text": [
            "{'AddToPlaylist': 0, 'BookRestaurant': 1, 'GetWeather': 2, 'RateBook': 3, 'SearchCreativeWork': 4, 'SearchScreeningEvent': 5}\n"
          ]
        }
      ]
    },
    {
      "cell_type": "markdown",
      "source": [
        "Tokenization"
      ],
      "metadata": {
        "id": "cUNDRkKulO85"
      }
    },
    {
      "cell_type": "code",
      "source": [
        "tokenizer = Tokenizer()\n",
        "tokenizer.fit_on_texts(intent_train)\n",
        "sequences = tokenizer.#your code(intent_train)\n",
        "sequences[:5]"
      ],
      "metadata": {
        "colab": {
          "base_uri": "https://localhost:8080/"
        },
        "id": "9dA1jZUtElUV",
        "outputId": "cc422221-51e3-4eac-f72f-845fcb70bc42"
      },
      "execution_count": null,
      "outputs": [
        {
          "output_type": "execute_result",
          "data": {
            "text/plain": [
              "[[11, 191, 61, 4, 1, 4013, 1141, 1572, 15],\n",
              " [11, 2624, 1573, 3, 14, 15, 939, 82, 256, 188, 548],\n",
              " [11, 187, 42, 2625, 4014, 4, 1968],\n",
              " [11, 2626, 22, 2627, 4, 14, 192, 27],\n",
              " [11, 92, 4, 14, 651, 520, 195]]"
            ]
          },
          "metadata": {},
          "execution_count": 8
        }
      ]
    },
    {
      "cell_type": "code",
      "source": [
        "word_index = tokenizer.word_index\n",
        "vocab_size = # your code\n",
        "print('단어 집합(Vocabulary)의 크기 :',vocab_size)"
      ],
      "metadata": {
        "colab": {
          "base_uri": "https://localhost:8080/"
        },
        "id": "F-dfFkTcEpbD",
        "outputId": "db3f2fd1-3cbd-4571-ed04-1c473ef8010f"
      },
      "execution_count": null,
      "outputs": [
        {
          "output_type": "stream",
          "name": "stdout",
          "text": [
            "단어 집합(Vocabulary)의 크기 : 9870\n"
          ]
        }
      ]
    },
    {
      "cell_type": "code",
      "source": [
        "print('문장의 최대 길이 :',max(len(l) for l in sequences))\n",
        "print('문장의 평균 길이 :',sum(map(len, sequences))/len(sequences))\n",
        "plt.hist([len(s) for s in sequences], bins=50, color='orange')\n",
        "plt.xlabel('length of samples')\n",
        "plt.ylabel('number of samples')\n",
        "plt.show()"
      ],
      "metadata": {
        "colab": {
          "base_uri": "https://localhost:8080/",
          "height": 484
        },
        "id": "1qcMEBg7EsIs",
        "outputId": "f2d34e74-ff90-4fd0-c31c-141188ebb224"
      },
      "execution_count": null,
      "outputs": [
        {
          "output_type": "stream",
          "name": "stdout",
          "text": [
            "문장의 최대 길이 : 35\n",
            "문장의 평균 길이 : 9.364392396469789\n"
          ]
        },
        {
          "output_type": "display_data",
          "data": {
            "text/plain": [
              "<Figure size 640x480 with 1 Axes>"
            ],
            "image/png": "[encoded data removed]"
          },
          "metadata": {}
        }
      ]
    },
    {
      "cell_type": "markdown",
      "source": [
        "Padding"
      ],
      "metadata": {
        "id": "yV6GA1NhFBQ9"
      }
    },
    {
      "cell_type": "code",
      "source": [
        "max_len = 35\n",
        "intent_train = #your code(sequences, maxlen = max_len)\n",
        "label_train = to_categorical(np.asarray(label_train))\n",
        "print('전체 데이터의 크기(shape):', intent_train.shape)\n",
        "print('레이블 데이터의 크기(shape):', label_train.shape)\n"
      ],
      "metadata": {
        "colab": {
          "base_uri": "https://localhost:8080/"
        },
        "id": "tgGp2-KpE-6e",
        "outputId": "3a0bb174-9906-434e-8d59-54a49fa6b2c1"
      },
      "execution_count": null,
      "outputs": [
        {
          "output_type": "stream",
          "name": "stdout",
          "text": [
            "전체 데이터의 크기(shape): (11784, 35)\n",
            "레이블 데이터의 크기(shape): (11784, 6)\n"
          ]
        }
      ]
    },
    {
      "cell_type": "code",
      "source": [
        "print(intent_train[0])\n",
        "print(label_train[0])"
      ],
      "metadata": {
        "colab": {
          "base_uri": "https://localhost:8080/"
        },
        "id": "wCsMBPgnFEEF",
        "outputId": "442ff17c-57f7-49e8-c4df-9d3e6c32eb01"
      },
      "execution_count": null,
      "outputs": [
        {
          "output_type": "stream",
          "name": "stdout",
          "text": [
            "[   0    0    0    0    0    0    0    0    0    0    0    0    0    0\n",
            "    0    0    0    0    0    0    0    0    0    0    0    0   11  191\n",
            "   61    4    1 4013 1141 1572   15]\n",
            "[1. 0. 0. 0. 0. 0.]\n"
          ]
        }
      ]
    },
    {
      "cell_type": "markdown",
      "source": [
        "Shuffle Data"
      ],
      "metadata": {
        "id": "5q4sN7XOFMRv"
      }
    },
    {
      "cell_type": "code",
      "source": [
        "indices = np.arange(intent_train.shape[0])\n",
        "np.random.shuffle(indices)\n",
        "print(indices)"
      ],
      "metadata": {
        "colab": {
          "base_uri": "https://localhost:8080/"
        },
        "id": "pPafw9qoFH5o",
        "outputId": "d4e414dc-b6e9-4a9f-9bbe-e86278e9b75b"
      },
      "execution_count": null,
      "outputs": [
        {
          "output_type": "stream",
          "name": "stdout",
          "text": [
            "[3365 7548 4731 ... 4763 5181 8352]\n"
          ]
        }
      ]
    },
    {
      "cell_type": "code",
      "source": [
        "intent_train = intent_train[indices]\n",
        "label_train = label_train[indices]\n"
      ],
      "metadata": {
        "id": "YNnyiMWyFOUd"
      },
      "execution_count": null,
      "outputs": []
    },
    {
      "cell_type": "code",
      "source": [
        "n_of_val = int(0.1 * intent_train.shape[0])\n",
        "print(n_of_val)"
      ],
      "metadata": {
        "colab": {
          "base_uri": "https://localhost:8080/"
        },
        "id": "X39IZTrzFUSZ",
        "outputId": "2b073e37-f0b8-4549-b214-20a4f7199bcc"
      },
      "execution_count": null,
      "outputs": [
        {
          "output_type": "stream",
          "name": "stdout",
          "text": [
            "1178\n"
          ]
        }
      ]
    },
    {
      "cell_type": "code",
      "source": [
        "X_train = intent_train[:-n_of_val]\n",
        "y_train = label_train[:-n_of_val]\n",
        "X_val = intent_train[-n_of_val:]\n",
        "y_val = label_train[-n_of_val:]\n",
        "X_test = intent_test\n",
        "y_test = label_test"
      ],
      "metadata": {
        "id": "g6zX5dV9FWu2"
      },
      "execution_count": null,
      "outputs": []
    },
    {
      "cell_type": "code",
      "source": [
        "print('훈련 데이터의 크기(shape):', X_train.shape)\n",
        "print('검증 데이터의 크기(shape):', X_val.shape)\n",
        "print('훈련 데이터 레이블의 개수(shape):', y_train.shape)\n",
        "print('검증 데이터 레이블의 개수(shape):', y_val.shape)\n",
        "print('테스트 데이터의 개수 :', len(X_test))\n",
        "print('테스트 데이터 레이블의 개수 :', len(y_test))"
      ],
      "metadata": {
        "colab": {
          "base_uri": "https://localhost:8080/"
        },
        "id": "lsk6X4YxFYCb",
        "outputId": "7b5baba5-c842-4a7c-b18c-86a144414028"
      },
      "execution_count": null,
      "outputs": [
        {
          "output_type": "stream",
          "name": "stdout",
          "text": [
            "훈련 데이터의 크기(shape): (10606, 35)\n",
            "검증 데이터의 크기(shape): (1178, 35)\n",
            "훈련 데이터 레이블의 개수(shape): (10606, 6)\n",
            "검증 데이터 레이블의 개수(shape): (1178, 6)\n",
            "테스트 데이터의 개수 : 600\n",
            "테스트 데이터 레이블의 개수 : 600\n"
          ]
        }
      ]
    },
    {
      "cell_type": "markdown",
      "source": [
        "Embedding"
      ],
      "metadata": {
        "id": "4DRK0HH7Fa1j"
      }
    },
    {
      "cell_type": "code",
      "source": [
        "!wget http://nlp.stanford.edu/data/glove.6B.zip\n",
        "!unzip glove*.zip"
      ],
      "metadata": {
        "colab": {
          "base_uri": "https://localhost:8080/"
        },
        "id": "7bbRuzuSFcfR",
        "outputId": "65209b44-6d86-4f51-f33d-be4e9447c18e"
      },
      "execution_count": null,
      "outputs": [
        {
          "output_type": "stream",
          "name": "stdout",
          "text": [
            "--2023-03-30 05:55:29--  http://nlp.stanford.edu/data/glove.6B.zip\n",
            "Resolving nlp.stanford.edu (nlp.stanford.edu)... 171.64.67.140\n",
            "Connecting to nlp.stanford.edu (nlp.stanford.edu)|171.64.67.140|:80... connected.\n",
            "HTTP request sent, awaiting response... 302 Found\n",
            "Location: https://nlp.stanford.edu/data/glove.6B.zip [following]\n",
            "--2023-03-30 05:55:29--  https://nlp.stanford.edu/data/glove.6B.zip\n",
            "Connecting to nlp.stanford.edu (nlp.stanford.edu)|171.64.67.140|:443... connected.\n",
            "HTTP request sent, awaiting response... 301 Moved Permanently\n",
            "Location: https://downloads.cs.stanford.edu/nlp/data/glove.6B.zip [following]\n",
            "--2023-03-30 05:55:29--  https://downloads.cs.stanford.edu/nlp/data/glove.6B.zip\n",
            "Resolving downloads.cs.stanford.edu (downloads.cs.stanford.edu)... 171.64.64.22\n",
            "Connecting to downloads.cs.stanford.edu (downloads.cs.stanford.edu)|171.64.64.22|:443... connected.\n",
            "HTTP request sent, awaiting response... 200 OK\n",
            "Length: 862182613 (822M) [application/zip]\n",
            "Saving to: ‘glove.6B.zip’\n",
            "\n",
            "glove.6B.zip        100%[===================>] 822.24M  5.00MB/s    in 2m 39s  \n",
            "\n",
            "2023-03-30 05:58:08 (5.17 MB/s) - ‘glove.6B.zip’ saved [862182613/862182613]\n",
            "\n",
            "Archive:  glove.6B.zip\n",
            "  inflating: glove.6B.50d.txt        \n",
            "  inflating: glove.6B.100d.txt       \n",
            "  inflating: glove.6B.200d.txt       \n",
            "  inflating: glove.6B.300d.txt       \n"
          ]
        }
      ]
    },
    {
      "cell_type": "code",
      "source": [
        "embedding_dict = dict()\n",
        "f = open(os.path.join('glove.6B.100d.txt'), encoding='utf-8')\n",
        "for line in f:\n",
        "    word_vector = line.split()\n",
        "    word = word_vector[0]\n",
        "    word_vector_arr = np.asarray(word_vector[1:], dtype='float32') # 100개의 값을 가지는 array로 변환\n",
        "    embedding_dict[word] = word_vector_arr\n",
        "f.close()\n",
        "\n",
        "print('%s개의 Embedding vector가 있습니다.' % len(embedding_dict))"
      ],
      "metadata": {
        "colab": {
          "base_uri": "https://localhost:8080/"
        },
        "id": "G0VhoZYKFfS5",
        "outputId": "a2079a9d-9f4a-47f4-83bd-737a1e95f329"
      },
      "execution_count": null,
      "outputs": [
        {
          "output_type": "stream",
          "name": "stdout",
          "text": [
            "400000개의 Embedding vector가 있습니다.\n"
          ]
        }
      ]
    },
    {
      "cell_type": "code",
      "source": [
        "print(embedding_dict['playlist'])\n",
        "print(len(embedding_dict['playlist']))"
      ],
      "metadata": {
        "colab": {
          "base_uri": "https://localhost:8080/"
        },
        "id": "km_irA_WGPTm",
        "outputId": "4a0d7fca-1b74-4d1e-be38-b7537dcd3495"
      },
      "execution_count": null,
      "outputs": [
        {
          "output_type": "stream",
          "name": "stdout",
          "text": [
            "[-0.6528   -0.087126  0.069655 -0.5048    0.79019   0.65051   0.37976\n",
            "  0.20751   0.10412   0.95853   0.32161   0.36098  -0.21461  -0.59657\n",
            "  0.362    -0.3951   -0.58838   0.324     1.0287    0.4569   -0.24372\n",
            " -0.26496   0.1975   -0.78302   0.17163  -0.076737  0.83705   0.58432\n",
            "  0.71843   0.57522   0.11688   0.011023 -0.53676   0.73441   0.09844\n",
            "  0.8927   -0.211     0.015395 -0.2928   -1.3875    1.0756    0.13387\n",
            "  0.20341   0.86427  -0.096482 -0.06536  -0.52669  -0.36076   0.76218\n",
            "  0.3854   -0.39054   0.014445  0.20772   0.41165  -0.16024  -0.66007\n",
            "  0.13666  -0.34246   0.4382    0.49848   0.31481  -0.13102  -0.17373\n",
            "  0.061581  1.1336   -0.25673  -0.20472  -0.72834   0.38054  -0.35237\n",
            "  0.033096  0.43066  -0.36101  -0.096088 -0.15556  -0.028297  0.32882\n",
            "  0.019752  0.5847   -0.12215  -0.53096  -0.53096   0.25334  -0.13078\n",
            " -0.058533  0.40602  -0.23493   0.048578 -0.34938   1.0172   -0.44\n",
            "  1.2431   -0.32026  -0.22517  -0.079004 -0.3919    0.18961  -0.42287\n",
            " -0.028161  0.92989 ]\n",
            "100\n"
          ]
        }
      ]
    },
    {
      "cell_type": "code",
      "source": [
        "embedding_dim = 100\n",
        "embedding_matrix = np.zeros(#your code)"
      ],
      "metadata": {
        "id": "mMmD0cqIGVVK"
      },
      "execution_count": null,
      "outputs": []
    },
    {
      "cell_type": "code",
      "source": [
        "np.shape(embedding_matrix)"
      ],
      "metadata": {
        "colab": {
          "base_uri": "https://localhost:8080/"
        },
        "id": "AAuIJJIkHaH9",
        "outputId": "4e87566f-b533-4646-aee4-322c556b5595"
      },
      "execution_count": null,
      "outputs": [
        {
          "output_type": "execute_result",
          "data": {
            "text/plain": [
              "(9870, 100)"
            ]
          },
          "metadata": {},
          "execution_count": 24
        }
      ]
    },
    {
      "cell_type": "code",
      "source": [
        "for word, i in word_index.items():\n",
        "    embedding_vector = embedding_dict.get(word)\n",
        "    if embedding_vector is not None:\n",
        "        embedding_matrix[i] = embedding_vector"
      ],
      "metadata": {
        "id": "Y4oqtVweHcR8"
      },
      "execution_count": null,
      "outputs": []
    },
    {
      "cell_type": "markdown",
      "source": [
        "Build Model"
      ],
      "metadata": {
        "id": "OuWAUEr1HhiF"
      }
    },
    {
      "cell_type": "code",
      "source": [
        "from tensorflow.keras.models import Model\n",
        "from tensorflow.keras.layers import Embedding, Dropout, Conv1D, GlobalMaxPooling1D, Dense, Input, Flatten, Concatenate"
      ],
      "metadata": {
        "id": "MyDhZp9XHdZC"
      },
      "execution_count": null,
      "outputs": []
    },
    {
      "cell_type": "code",
      "source": [
        "filter_sizes = [2,3,5]\n",
        "num_filters = 512\n",
        "drop = 0.5"
      ],
      "metadata": {
        "id": "-3dG4eUCHkUa"
      },
      "execution_count": null,
      "outputs": []
    },
    {
      "cell_type": "code",
      "source": [
        "model_input = Input(shape = (#your code))\n",
        "z = Embedding(vocab_size, embedding_dim, weights=[embedding_matrix],\n",
        "                      input_length=max_len, trainable=False)(model_input)\n",
        "\n",
        "conv_blocks = []\n",
        "\n",
        "for sz in filter_sizes:\n",
        "    conv = Conv1D(filters = num_filters,\n",
        "                         kernel_size = sz,\n",
        "                         padding = \"valid\",\n",
        "                         activation = \"relu\",\n",
        "                         strides = 1)(z)\n",
        "    conv = GlobalMaxPooling1D()(conv)\n",
        "    conv = Flatten()(conv)\n",
        "    conv_blocks.append(conv)\n",
        "\n",
        "z = Concatenate()(conv_blocks) if len(conv_blocks) > 1 else conv_blocks[0]\n",
        "z = Dropout(drop)(z)\n",
        "model_output = Dense(len(label_idx), activation=#your code)(z)\n",
        "\n",
        "model = Model(model_input, model_output)\n",
        "\n",
        "model.compile(loss=#your code,\n",
        "              optimizer='adam',\n",
        "              metrics=['acc'])\n"
      ],
      "metadata": {
        "id": "0ccua6obHoH2"
      },
      "execution_count": null,
      "outputs": []
    },
    {
      "cell_type": "code",
      "source": [
        "model.summary()"
      ],
      "metadata": {
        "colab": {
          "base_uri": "https://localhost:8080/"
        },
        "id": "w-zM0MEFHqL2",
        "outputId": "6cf8de44-9948-44ee-96c9-722f04eaccdf"
      },
      "execution_count": null,
      "outputs": [
        {
          "output_type": "stream",
          "name": "stdout",
          "text": [
            "Model: \"model\"\n",
            "__________________________________________________________________________________________________\n",
            " Layer (type)                   Output Shape         Param #     Connected to                     \n",
            "==================================================================================================\n",
            " input_1 (InputLayer)           [(None, 35)]         0           []                               \n",
            "                                                                                                  \n",
            " embedding (Embedding)          (None, 35, 100)      987000      ['input_1[0][0]']                \n",
            "                                                                                                  \n",
            " conv1d (Conv1D)                (None, 34, 512)      102912      ['embedding[0][0]']              \n",
            "                                                                                                  \n",
            " conv1d_1 (Conv1D)              (None, 33, 512)      154112      ['embedding[0][0]']              \n",
            "                                                                                                  \n",
            " conv1d_2 (Conv1D)              (None, 31, 512)      256512      ['embedding[0][0]']              \n",
            "                                                                                                  \n",
            " global_max_pooling1d (GlobalMa  (None, 512)         0           ['conv1d[0][0]']                 \n",
            " xPooling1D)                                                                                      \n",
            "                                                                                                  \n",
            " global_max_pooling1d_1 (Global  (None, 512)         0           ['conv1d_1[0][0]']               \n",
            " MaxPooling1D)                                                                                    \n",
            "                                                                                                  \n",
            " global_max_pooling1d_2 (Global  (None, 512)         0           ['conv1d_2[0][0]']               \n",
            " MaxPooling1D)                                                                                    \n",
            "                                                                                                  \n",
            " flatten (Flatten)              (None, 512)          0           ['global_max_pooling1d[0][0]']   \n",
            "                                                                                                  \n",
            " flatten_1 (Flatten)            (None, 512)          0           ['global_max_pooling1d_1[0][0]'] \n",
            "                                                                                                  \n",
            " flatten_2 (Flatten)            (None, 512)          0           ['global_max_pooling1d_2[0][0]'] \n",
            "                                                                                                  \n",
            " concatenate (Concatenate)      (None, 1536)         0           ['flatten[0][0]',                \n",
            "                                                                  'flatten_1[0][0]',              \n",
            "                                                                  'flatten_2[0][0]']              \n",
            "                                                                                                  \n",
            " dropout (Dropout)              (None, 1536)         0           ['concatenate[0][0]']            \n",
            "                                                                                                  \n",
            " dense (Dense)                  (None, 6)            9222        ['dropout[0][0]']                \n",
            "                                                                                                  \n",
            "==================================================================================================\n",
            "Total params: 1,509,758\n",
            "Trainable params: 522,758\n",
            "Non-trainable params: 987,000\n",
            "__________________________________________________________________________________________________\n"
          ]
        }
      ]
    },
    {
      "cell_type": "code",
      "source": [
        "history = model.fit(X_train, y_train,\n",
        "          batch_size=64,\n",
        "          epochs=10,\n",
        "          validation_data = (X_val, y_val))\n"
      ],
      "metadata": {
        "colab": {
          "base_uri": "https://localhost:8080/"
        },
        "id": "W0NB4bh_Htlg",
        "outputId": "19213d12-e8b9-4271-c08f-6d83cf632f2a"
      },
      "execution_count": null,
      "outputs": [
        {
          "output_type": "stream",
          "name": "stdout",
          "text": [
            "Epoch 1/10\n",
            "166/166 [==============================] - 20s 111ms/step - loss: 0.2127 - acc: 0.9326 - val_loss: 0.0744 - val_acc: 0.9796\n",
            "Epoch 2/10\n",
            "166/166 [==============================] - 19s 115ms/step - loss: 0.0495 - acc: 0.9859 - val_loss: 0.0572 - val_acc: 0.9805\n",
            "Epoch 3/10\n",
            "166/166 [==============================] - 18s 108ms/step - loss: 0.0290 - acc: 0.9923 - val_loss: 0.0472 - val_acc: 0.9839\n",
            "Epoch 4/10\n",
            "166/166 [==============================] - 21s 125ms/step - loss: 0.0181 - acc: 0.9952 - val_loss: 0.0477 - val_acc: 0.9830\n",
            "Epoch 5/10\n",
            "166/166 [==============================] - 18s 108ms/step - loss: 0.0126 - acc: 0.9965 - val_loss: 0.0430 - val_acc: 0.9839\n",
            "Epoch 6/10\n",
            "166/166 [==============================] - 22s 131ms/step - loss: 0.0092 - acc: 0.9976 - val_loss: 0.0530 - val_acc: 0.9839\n",
            "Epoch 7/10\n",
            "166/166 [==============================] - 18s 108ms/step - loss: 0.0081 - acc: 0.9979 - val_loss: 0.0597 - val_acc: 0.9856\n",
            "Epoch 8/10\n",
            "166/166 [==============================] - 19s 114ms/step - loss: 0.0070 - acc: 0.9983 - val_loss: 0.0566 - val_acc: 0.9839\n",
            "Epoch 9/10\n",
            "166/166 [==============================] - 18s 109ms/step - loss: 0.0077 - acc: 0.9980 - val_loss: 0.0553 - val_acc: 0.9847\n",
            "Epoch 10/10\n",
            "166/166 [==============================] - 24s 145ms/step - loss: 0.0049 - acc: 0.9988 - val_loss: 0.0588 - val_acc: 0.9856\n"
          ]
        }
      ]
    },
    {
      "cell_type": "markdown",
      "source": [
        "Evaluate\n"
      ],
      "metadata": {
        "id": "KfO9QEBLIrDt"
      }
    },
    {
      "cell_type": "code",
      "source": [
        "X_test = tokenizer.texts_to_sequences(X_test)\n",
        "X_test = pad_sequences(X_test, maxlen=max_len)\n"
      ],
      "metadata": {
        "id": "Fv7C3p-yIn_n"
      },
      "execution_count": null,
      "outputs": []
    },
    {
      "cell_type": "code",
      "source": [
        "y_predicted = model.predict(X_test)\n",
        "y_predicted = y_predicted.argmax(axis=-1) # 예측된 정수 시퀀스로 변환"
      ],
      "metadata": {
        "colab": {
          "base_uri": "https://localhost:8080/"
        },
        "id": "ja_zY7ArItG7",
        "outputId": "ceafafbb-e4aa-467a-f0fd-2ba5a1096880"
      },
      "execution_count": null,
      "outputs": [
        {
          "output_type": "stream",
          "name": "stdout",
          "text": [
            "19/19 [==============================] - 1s 20ms/step\n"
          ]
        }
      ]
    },
    {
      "cell_type": "code",
      "source": [
        "y_predicted = idx_encode.inverse_transform(y_predicted) \n",
        "y_test = idx_encode.inverse_transform(y_test) "
      ],
      "metadata": {
        "id": "Pg-t2f9jIvBh"
      },
      "execution_count": null,
      "outputs": []
    },
    {
      "cell_type": "code",
      "source": [
        "print('accuracy: ', sum(y_predicted == y_test) / len(y_test))\n",
        "print(\"Precision, Recall and F1-Score:\\n\\n\", classification_report(y_test, y_predicted))"
      ],
      "metadata": {
        "colab": {
          "base_uri": "https://localhost:8080/"
        },
        "id": "fei4MEDjIx7a",
        "outputId": "e3dbf33a-8b8d-4e07-bdce-0fcdb06b58af"
      },
      "execution_count": null,
      "outputs": [
        {
          "output_type": "stream",
          "name": "stdout",
          "text": [
            "accuracy:  0.985\n",
            "Precision, Recall and F1-Score:\n",
            "\n",
            "                       precision    recall  f1-score   support\n",
            "\n",
            "       AddToPlaylist       1.00      1.00      1.00       100\n",
            "      BookRestaurant       0.99      1.00      1.00       100\n",
            "          GetWeather       1.00      0.98      0.99       100\n",
            "            RateBook       1.00      1.00      1.00       100\n",
            "  SearchCreativeWork       0.93      1.00      0.97       100\n",
            "SearchScreeningEvent       0.99      0.93      0.96       100\n",
            "\n",
            "            accuracy                           0.98       600\n",
            "           macro avg       0.99      0.98      0.98       600\n",
            "        weighted avg       0.99      0.98      0.98       600\n",
            "\n"
          ]
        }
      ]
    }
  ]
}