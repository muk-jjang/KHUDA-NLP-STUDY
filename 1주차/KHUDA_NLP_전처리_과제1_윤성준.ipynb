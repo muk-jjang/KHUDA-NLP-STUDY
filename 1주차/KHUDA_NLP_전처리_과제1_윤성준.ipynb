{
  "nbformat": 4,
  "nbformat_minor": 0,
  "metadata": {
    "colab": {
      "provenance": []
    },
    "kernelspec": {
      "name": "python3",
      "display_name": "Python 3"
    },
    "language_info": {
      "name": "python"
    },
    "gpuClass": "standard"
  },
  "cells": [
    {
      "cell_type": "markdown",
      "source": [
        "# **NLP 02.텍스트 전처리 & 04.카운트 기반의 단어 표현 과제**\n",
        "## TF-IDF를 이용한 와인 추천시스템 개발\n",
        "본 과제는 딥러닝을 이용한 자연어처리 입문을 토대로 제작되었습니다."
      ],
      "metadata": {
        "id": "9TcNdF4Ul0Gp"
      }
    },
    {
      "cell_type": "code",
      "source": [
        "from google.colab import drive\n",
        "drive.mount('/content/drive')"
      ],
      "metadata": {
        "colab": {
          "base_uri": "https://localhost:8080/"
        },
        "id": "GcuEt-r8rXBc",
        "outputId": "345f58f9-5909-41a2-fe45-f1b1da424bad"
      },
      "execution_count": 1,
      "outputs": [
        {
          "output_type": "stream",
          "name": "stdout",
          "text": [
            "Mounted at /content/drive\n"
          ]
        }
      ]
    },
    {
      "cell_type": "code",
      "source": [
        "!pip install nltk"
      ],
      "metadata": {
        "colab": {
          "base_uri": "https://localhost:8080/"
        },
        "id": "Mvhy2_GGMnkl",
        "outputId": "7ae32758-728a-4a0f-c831-0343ba5608ea"
      },
      "execution_count": 2,
      "outputs": [
        {
          "output_type": "stream",
          "name": "stdout",
          "text": [
            "Looking in indexes: https://pypi.org/simple, https://us-python.pkg.dev/colab-wheels/public/simple/\n",
            "Requirement already satisfied: nltk in /usr/local/lib/python3.9/dist-packages (3.8.1)\n",
            "Requirement already satisfied: tqdm in /usr/local/lib/python3.9/dist-packages (from nltk) (4.65.0)\n",
            "Requirement already satisfied: click in /usr/local/lib/python3.9/dist-packages (from nltk) (8.1.3)\n",
            "Requirement already satisfied: regex>=2021.8.3 in /usr/local/lib/python3.9/dist-packages (from nltk) (2022.10.31)\n",
            "Requirement already satisfied: joblib in /usr/local/lib/python3.9/dist-packages (from nltk) (1.1.1)\n"
          ]
        }
      ]
    },
    {
      "cell_type": "code",
      "source": [
        "!pip install konlpy"
      ],
      "metadata": {
        "colab": {
          "base_uri": "https://localhost:8080/"
        },
        "id": "2La9uPkr9vbg",
        "outputId": "55bdd8c0-e55c-48d4-bb70-4fa151001713"
      },
      "execution_count": 3,
      "outputs": [
        {
          "output_type": "stream",
          "name": "stdout",
          "text": [
            "Looking in indexes: https://pypi.org/simple, https://us-python.pkg.dev/colab-wheels/public/simple/\n",
            "Collecting konlpy\n",
            "  Downloading konlpy-0.6.0-py2.py3-none-any.whl (19.4 MB)\n",
            "\u001b[2K     \u001b[90m━━━━━━━━━━━━━━━━━━━━━━━━━━━━━━━━━━━━━━━━\u001b[0m \u001b[32m19.4/19.4 MB\u001b[0m \u001b[31m59.3 MB/s\u001b[0m eta \u001b[36m0:00:00\u001b[0m\n",
            "\u001b[?25hRequirement already satisfied: lxml>=4.1.0 in /usr/local/lib/python3.9/dist-packages (from konlpy) (4.9.2)\n",
            "Requirement already satisfied: numpy>=1.6 in /usr/local/lib/python3.9/dist-packages (from konlpy) (1.22.4)\n",
            "Collecting JPype1>=0.7.0\n",
            "  Downloading JPype1-1.4.1-cp39-cp39-manylinux_2_12_x86_64.manylinux2010_x86_64.whl (465 kB)\n",
            "\u001b[2K     \u001b[90m━━━━━━━━━━━━━━━━━━━━━━━━━━━━━━━━━━━━━━\u001b[0m \u001b[32m465.3/465.3 KB\u001b[0m \u001b[31m30.7 MB/s\u001b[0m eta \u001b[36m0:00:00\u001b[0m\n",
            "\u001b[?25hRequirement already satisfied: packaging in /usr/local/lib/python3.9/dist-packages (from JPype1>=0.7.0->konlpy) (23.0)\n",
            "Installing collected packages: JPype1, konlpy\n",
            "Successfully installed JPype1-1.4.1 konlpy-0.6.0\n"
          ]
        }
      ]
    },
    {
      "cell_type": "code",
      "source": [
        "# 필요한 라이브러리 import\n",
        "import numpy as np\n",
        "import pandas as pd\n",
        "import nltk\n",
        "nltk.download('punkt')\n",
        "nltk.download('averaged_perceptron_tagger')\n",
        "from sklearn.feature_extraction.text import TfidfVectorizer\n",
        "from sklearn.metrics.pairwise import cosine_similarity\n",
        "\n",
        "from nltk.tokenize import word_tokenize\n",
        "from nltk. tokenize import WordPunctTokenizer\n",
        "from tensorflow.keras.preprocessing.text import text_to_word_sequence\n",
        "from nltk.tokenize import sent_tokenize\n",
        "from nltk.tag import pos_tag\n",
        "from nltk.corpus import stopwords\n",
        "nltk.download('stopwords')\n",
        "from nltk.tokenize import word_tokenize\n",
        "from nltk.tokenize import RegexpTokenizer\n",
        "import re\n",
        "from konlpy.tag import Okt"
      ],
      "metadata": {
        "id": "YSdUCUJilzqH",
        "colab": {
          "base_uri": "https://localhost:8080/"
        },
        "outputId": "754f0bbb-76de-4143-cdff-ac7296c21f4d"
      },
      "execution_count": 4,
      "outputs": [
        {
          "output_type": "stream",
          "name": "stderr",
          "text": [
            "[nltk_data] Downloading package punkt to /root/nltk_data...\n",
            "[nltk_data]   Unzipping tokenizers/punkt.zip.\n",
            "[nltk_data] Downloading package averaged_perceptron_tagger to\n",
            "[nltk_data]     /root/nltk_data...\n",
            "[nltk_data]   Unzipping taggers/averaged_perceptron_tagger.zip.\n",
            "[nltk_data] Downloading package stopwords to /root/nltk_data...\n",
            "[nltk_data]   Unzipping corpora/stopwords.zip.\n"
          ]
        }
      ]
    },
    {
      "cell_type": "code",
      "source": [
        "# 데이터 불러오기\n",
        "data = pd.read_csv('/content/drive/MyDrive/khuda/정규세션/심화트랙(NLP)/1주차 세션/wine reviews.csv의 사본')\n",
        "data.head()"
      ],
      "metadata": {
        "id": "b8SBVRuwJfIK",
        "colab": {
          "base_uri": "https://localhost:8080/",
          "height": 704
        },
        "outputId": "1b0d5c56-75d2-4ed9-d3b7-7d44f7233b5e"
      },
      "execution_count": 5,
      "outputs": [
        {
          "output_type": "execute_result",
          "data": {
            "text/plain": [
              "   Sl.No.            Brand                                              Name  \\\n",
              "0       1            Gallo        Ecco Domani174 Pinot Grigio - 750ml Bottle   \n",
              "1       2  Fresh Craft Co.  Fresh Craft174 Mango Citrus - 4pk / 250ml Bottle   \n",
              "2       3     1000 Stories          1000 Stories174 Zinfandel - 750ml Bottle   \n",
              "3       4     1000 Stories          1000 Stories174 Zinfandel - 750ml Bottle   \n",
              "4       5     Wine Cube153           Pink Moscato - 3l Bottle - Wine Cube153   \n",
              "\n",
              "     Reviews Date Added Reviews do Recommend  Reviews Num Helpful  \\\n",
              "0  2018-01-09T13:24:04Z                 True                  1.0   \n",
              "1  2018-01-09T17:31:52Z                 True                  NaN   \n",
              "2  2018-01-09T17:31:51Z                 True                  NaN   \n",
              "3  2017-10-04T18:03:12Z                 True                  NaN   \n",
              "4  2018-01-10T18:06:29Z                 True                  1.0   \n",
              "\n",
              "   Reviews Rating                                       Reviews Text  \\\n",
              "0             5.0      This a fantastic white wine for any occasion!   \n",
              "1             5.0   Tart, not sweet...very refreshing and delicious!   \n",
              "2             5.0  I was given this wine so it was a delightful s...   \n",
              "3             5.0  This is a phenomenal wine and my new favorite ...   \n",
              "4             5.0  4 750ml bottles for the price of two With way ...   \n",
              "\n",
              "                          Reviews Title    Weight  \n",
              "0                My Favorite White Wine   1.0 lbs  \n",
              "1                                 Yum!!  2.45 lbs  \n",
              "2                       A New Favorite!  3.09 lbs  \n",
              "3  Bold, Flavorful, Aromatic, Delicious  3.09 lbs  \n",
              "4  Yum! Plus, Environmentally Friendly!   1.0 lbs  "
            ],
            "text/html": [
              "\n",
              "  <div id=\"df-dcb4f702-836e-43f9-baa2-94615f15ab9a\">\n",
              "    <div class=\"colab-df-container\">\n",
              "      <div>\n",
              "<style scoped>\n",
              "    .dataframe tbody tr th:only-of-type {\n",
              "        vertical-align: middle;\n",
              "    }\n",
              "\n",
              "    .dataframe tbody tr th {\n",
              "        vertical-align: top;\n",
              "    }\n",
              "\n",
              "    .dataframe thead th {\n",
              "        text-align: right;\n",
              "    }\n",
              "</style>\n",
              "<table border=\"1\" class=\"dataframe\">\n",
              "  <thead>\n",
              "    <tr style=\"text-align: right;\">\n",
              "      <th></th>\n",
              "      <th>Sl.No.</th>\n",
              "      <th>Brand</th>\n",
              "      <th>Name</th>\n",
              "      <th>Reviews Date Added</th>\n",
              "      <th>Reviews do Recommend</th>\n",
              "      <th>Reviews Num Helpful</th>\n",
              "      <th>Reviews Rating</th>\n",
              "      <th>Reviews Text</th>\n",
              "      <th>Reviews Title</th>\n",
              "      <th>Weight</th>\n",
              "    </tr>\n",
              "  </thead>\n",
              "  <tbody>\n",
              "    <tr>\n",
              "      <th>0</th>\n",
              "      <td>1</td>\n",
              "      <td>Gallo</td>\n",
              "      <td>Ecco Domani174 Pinot Grigio - 750ml Bottle</td>\n",
              "      <td>2018-01-09T13:24:04Z</td>\n",
              "      <td>True</td>\n",
              "      <td>1.0</td>\n",
              "      <td>5.0</td>\n",
              "      <td>This a fantastic white wine for any occasion!</td>\n",
              "      <td>My Favorite White Wine</td>\n",
              "      <td>1.0 lbs</td>\n",
              "    </tr>\n",
              "    <tr>\n",
              "      <th>1</th>\n",
              "      <td>2</td>\n",
              "      <td>Fresh Craft Co.</td>\n",
              "      <td>Fresh Craft174 Mango Citrus - 4pk / 250ml Bottle</td>\n",
              "      <td>2018-01-09T17:31:52Z</td>\n",
              "      <td>True</td>\n",
              "      <td>NaN</td>\n",
              "      <td>5.0</td>\n",
              "      <td>Tart, not sweet...very refreshing and delicious!</td>\n",
              "      <td>Yum!!</td>\n",
              "      <td>2.45 lbs</td>\n",
              "    </tr>\n",
              "    <tr>\n",
              "      <th>2</th>\n",
              "      <td>3</td>\n",
              "      <td>1000 Stories</td>\n",
              "      <td>1000 Stories174 Zinfandel - 750ml Bottle</td>\n",
              "      <td>2018-01-09T17:31:51Z</td>\n",
              "      <td>True</td>\n",
              "      <td>NaN</td>\n",
              "      <td>5.0</td>\n",
              "      <td>I was given this wine so it was a delightful s...</td>\n",
              "      <td>A New Favorite!</td>\n",
              "      <td>3.09 lbs</td>\n",
              "    </tr>\n",
              "    <tr>\n",
              "      <th>3</th>\n",
              "      <td>4</td>\n",
              "      <td>1000 Stories</td>\n",
              "      <td>1000 Stories174 Zinfandel - 750ml Bottle</td>\n",
              "      <td>2017-10-04T18:03:12Z</td>\n",
              "      <td>True</td>\n",
              "      <td>NaN</td>\n",
              "      <td>5.0</td>\n",
              "      <td>This is a phenomenal wine and my new favorite ...</td>\n",
              "      <td>Bold, Flavorful, Aromatic, Delicious</td>\n",
              "      <td>3.09 lbs</td>\n",
              "    </tr>\n",
              "    <tr>\n",
              "      <th>4</th>\n",
              "      <td>5</td>\n",
              "      <td>Wine Cube153</td>\n",
              "      <td>Pink Moscato - 3l Bottle - Wine Cube153</td>\n",
              "      <td>2018-01-10T18:06:29Z</td>\n",
              "      <td>True</td>\n",
              "      <td>1.0</td>\n",
              "      <td>5.0</td>\n",
              "      <td>4 750ml bottles for the price of two With way ...</td>\n",
              "      <td>Yum! Plus, Environmentally Friendly!</td>\n",
              "      <td>1.0 lbs</td>\n",
              "    </tr>\n",
              "  </tbody>\n",
              "</table>\n",
              "</div>\n",
              "      <button class=\"colab-df-convert\" onclick=\"convertToInteractive('df-dcb4f702-836e-43f9-baa2-94615f15ab9a')\"\n",
              "              title=\"Convert this dataframe to an interactive table.\"\n",
              "              style=\"display:none;\">\n",
              "        \n",
              "  <svg xmlns=\"http://www.w3.org/2000/svg\" height=\"24px\"viewBox=\"0 0 24 24\"\n",
              "       width=\"24px\">\n",
              "    <path d=\"M0 0h24v24H0V0z\" fill=\"none\"/>\n",
              "    <path d=\"M18.56 5.44l.94 2.06.94-2.06 2.06-.94-2.06-.94-.94-2.06-.94 2.06-2.06.94zm-11 1L8.5 8.5l.94-2.06 2.06-.94-2.06-.94L8.5 2.5l-.94 2.06-2.06.94zm10 10l.94 2.06.94-2.06 2.06-.94-2.06-.94-.94-2.06-.94 2.06-2.06.94z\"/><path d=\"M17.41 7.96l-1.37-1.37c-.4-.4-.92-.59-1.43-.59-.52 0-1.04.2-1.43.59L10.3 9.45l-7.72 7.72c-.78.78-.78 2.05 0 2.83L4 21.41c.39.39.9.59 1.41.59.51 0 1.02-.2 1.41-.59l7.78-7.78 2.81-2.81c.8-.78.8-2.07 0-2.86zM5.41 20L4 18.59l7.72-7.72 1.47 1.35L5.41 20z\"/>\n",
              "  </svg>\n",
              "      </button>\n",
              "      \n",
              "  <style>\n",
              "    .colab-df-container {\n",
              "      display:flex;\n",
              "      flex-wrap:wrap;\n",
              "      gap: 12px;\n",
              "    }\n",
              "\n",
              "    .colab-df-convert {\n",
              "      background-color: #E8F0FE;\n",
              "      border: none;\n",
              "      border-radius: 50%;\n",
              "      cursor: pointer;\n",
              "      display: none;\n",
              "      fill: #1967D2;\n",
              "      height: 32px;\n",
              "      padding: 0 0 0 0;\n",
              "      width: 32px;\n",
              "    }\n",
              "\n",
              "    .colab-df-convert:hover {\n",
              "      background-color: #E2EBFA;\n",
              "      box-shadow: 0px 1px 2px rgba(60, 64, 67, 0.3), 0px 1px 3px 1px rgba(60, 64, 67, 0.15);\n",
              "      fill: #174EA6;\n",
              "    }\n",
              "\n",
              "    [theme=dark] .colab-df-convert {\n",
              "      background-color: #3B4455;\n",
              "      fill: #D2E3FC;\n",
              "    }\n",
              "\n",
              "    [theme=dark] .colab-df-convert:hover {\n",
              "      background-color: #434B5C;\n",
              "      box-shadow: 0px 1px 3px 1px rgba(0, 0, 0, 0.15);\n",
              "      filter: drop-shadow(0px 1px 2px rgba(0, 0, 0, 0.3));\n",
              "      fill: #FFFFFF;\n",
              "    }\n",
              "  </style>\n",
              "\n",
              "      <script>\n",
              "        const buttonEl =\n",
              "          document.querySelector('#df-dcb4f702-836e-43f9-baa2-94615f15ab9a button.colab-df-convert');\n",
              "        buttonEl.style.display =\n",
              "          google.colab.kernel.accessAllowed ? 'block' : 'none';\n",
              "\n",
              "        async function convertToInteractive(key) {\n",
              "          const element = document.querySelector('#df-dcb4f702-836e-43f9-baa2-94615f15ab9a');\n",
              "          const dataTable =\n",
              "            await google.colab.kernel.invokeFunction('convertToInteractive',\n",
              "                                                     [key], {});\n",
              "          if (!dataTable) return;\n",
              "\n",
              "          const docLinkHtml = 'Like what you see? Visit the ' +\n",
              "            '<a target=\"_blank\" href=https://colab.research.google.com/notebooks/data_table.ipynb>data table notebook</a>'\n",
              "            + ' to learn more about interactive tables.';\n",
              "          element.innerHTML = '';\n",
              "          dataTable['output_type'] = 'display_data';\n",
              "          await google.colab.output.renderOutput(dataTable, element);\n",
              "          const docLink = document.createElement('div');\n",
              "          docLink.innerHTML = docLinkHtml;\n",
              "          element.appendChild(docLink);\n",
              "        }\n",
              "      </script>\n",
              "    </div>\n",
              "  </div>\n",
              "  "
            ]
          },
          "metadata": {},
          "execution_count": 5
        }
      ]
    },
    {
      "cell_type": "code",
      "source": [
        "# data 확인\n",
        "print(data.columns)\n",
        "print(data.shape)"
      ],
      "metadata": {
        "colab": {
          "base_uri": "https://localhost:8080/"
        },
        "id": "y4ahdudmtZpE",
        "outputId": "521a4527-89ab-412e-e5cb-83e13d5f92db"
      },
      "execution_count": 6,
      "outputs": [
        {
          "output_type": "stream",
          "name": "stdout",
          "text": [
            "Index(['Sl.No.', 'Brand', 'Name', 'Reviews Date Added', 'Reviews do Recommend',\n",
            "       'Reviews Num Helpful', 'Reviews Rating', 'Reviews Text',\n",
            "       'Reviews Title', 'Weight'],\n",
            "      dtype='object')\n",
            "(2890, 10)\n"
          ]
        }
      ]
    },
    {
      "cell_type": "code",
      "source": [
        "# data의 Reviews Text와 Name만 가져오기\n",
        "data = data[['Name', 'Reviews Text']]\n",
        "print('data size: ', data.shape)\n",
        "display(data.head())"
      ],
      "metadata": {
        "colab": {
          "base_uri": "https://localhost:8080/",
          "height": 302
        },
        "id": "xDwXlHFxtG4I",
        "outputId": "6215e463-6c0c-4235-d26b-9a6b15d7fa46"
      },
      "execution_count": 7,
      "outputs": [
        {
          "output_type": "stream",
          "name": "stdout",
          "text": [
            "data size:  (2890, 2)\n"
          ]
        },
        {
          "output_type": "display_data",
          "data": {
            "text/plain": [
              "                                               Name  \\\n",
              "0        Ecco Domani174 Pinot Grigio - 750ml Bottle   \n",
              "1  Fresh Craft174 Mango Citrus - 4pk / 250ml Bottle   \n",
              "2          1000 Stories174 Zinfandel - 750ml Bottle   \n",
              "3          1000 Stories174 Zinfandel - 750ml Bottle   \n",
              "4           Pink Moscato - 3l Bottle - Wine Cube153   \n",
              "\n",
              "                                        Reviews Text  \n",
              "0      This a fantastic white wine for any occasion!  \n",
              "1   Tart, not sweet...very refreshing and delicious!  \n",
              "2  I was given this wine so it was a delightful s...  \n",
              "3  This is a phenomenal wine and my new favorite ...  \n",
              "4  4 750ml bottles for the price of two With way ...  "
            ],
            "text/html": [
              "\n",
              "  <div id=\"df-43c4934c-fd25-4e64-a52f-9a9f01f2beb0\">\n",
              "    <div class=\"colab-df-container\">\n",
              "      <div>\n",
              "<style scoped>\n",
              "    .dataframe tbody tr th:only-of-type {\n",
              "        vertical-align: middle;\n",
              "    }\n",
              "\n",
              "    .dataframe tbody tr th {\n",
              "        vertical-align: top;\n",
              "    }\n",
              "\n",
              "    .dataframe thead th {\n",
              "        text-align: right;\n",
              "    }\n",
              "</style>\n",
              "<table border=\"1\" class=\"dataframe\">\n",
              "  <thead>\n",
              "    <tr style=\"text-align: right;\">\n",
              "      <th></th>\n",
              "      <th>Name</th>\n",
              "      <th>Reviews Text</th>\n",
              "    </tr>\n",
              "  </thead>\n",
              "  <tbody>\n",
              "    <tr>\n",
              "      <th>0</th>\n",
              "      <td>Ecco Domani174 Pinot Grigio - 750ml Bottle</td>\n",
              "      <td>This a fantastic white wine for any occasion!</td>\n",
              "    </tr>\n",
              "    <tr>\n",
              "      <th>1</th>\n",
              "      <td>Fresh Craft174 Mango Citrus - 4pk / 250ml Bottle</td>\n",
              "      <td>Tart, not sweet...very refreshing and delicious!</td>\n",
              "    </tr>\n",
              "    <tr>\n",
              "      <th>2</th>\n",
              "      <td>1000 Stories174 Zinfandel - 750ml Bottle</td>\n",
              "      <td>I was given this wine so it was a delightful s...</td>\n",
              "    </tr>\n",
              "    <tr>\n",
              "      <th>3</th>\n",
              "      <td>1000 Stories174 Zinfandel - 750ml Bottle</td>\n",
              "      <td>This is a phenomenal wine and my new favorite ...</td>\n",
              "    </tr>\n",
              "    <tr>\n",
              "      <th>4</th>\n",
              "      <td>Pink Moscato - 3l Bottle - Wine Cube153</td>\n",
              "      <td>4 750ml bottles for the price of two With way ...</td>\n",
              "    </tr>\n",
              "  </tbody>\n",
              "</table>\n",
              "</div>\n",
              "      <button class=\"colab-df-convert\" onclick=\"convertToInteractive('df-43c4934c-fd25-4e64-a52f-9a9f01f2beb0')\"\n",
              "              title=\"Convert this dataframe to an interactive table.\"\n",
              "              style=\"display:none;\">\n",
              "        \n",
              "  <svg xmlns=\"http://www.w3.org/2000/svg\" height=\"24px\"viewBox=\"0 0 24 24\"\n",
              "       width=\"24px\">\n",
              "    <path d=\"M0 0h24v24H0V0z\" fill=\"none\"/>\n",
              "    <path d=\"M18.56 5.44l.94 2.06.94-2.06 2.06-.94-2.06-.94-.94-2.06-.94 2.06-2.06.94zm-11 1L8.5 8.5l.94-2.06 2.06-.94-2.06-.94L8.5 2.5l-.94 2.06-2.06.94zm10 10l.94 2.06.94-2.06 2.06-.94-2.06-.94-.94-2.06-.94 2.06-2.06.94z\"/><path d=\"M17.41 7.96l-1.37-1.37c-.4-.4-.92-.59-1.43-.59-.52 0-1.04.2-1.43.59L10.3 9.45l-7.72 7.72c-.78.78-.78 2.05 0 2.83L4 21.41c.39.39.9.59 1.41.59.51 0 1.02-.2 1.41-.59l7.78-7.78 2.81-2.81c.8-.78.8-2.07 0-2.86zM5.41 20L4 18.59l7.72-7.72 1.47 1.35L5.41 20z\"/>\n",
              "  </svg>\n",
              "      </button>\n",
              "      \n",
              "  <style>\n",
              "    .colab-df-container {\n",
              "      display:flex;\n",
              "      flex-wrap:wrap;\n",
              "      gap: 12px;\n",
              "    }\n",
              "\n",
              "    .colab-df-convert {\n",
              "      background-color: #E8F0FE;\n",
              "      border: none;\n",
              "      border-radius: 50%;\n",
              "      cursor: pointer;\n",
              "      display: none;\n",
              "      fill: #1967D2;\n",
              "      height: 32px;\n",
              "      padding: 0 0 0 0;\n",
              "      width: 32px;\n",
              "    }\n",
              "\n",
              "    .colab-df-convert:hover {\n",
              "      background-color: #E2EBFA;\n",
              "      box-shadow: 0px 1px 2px rgba(60, 64, 67, 0.3), 0px 1px 3px 1px rgba(60, 64, 67, 0.15);\n",
              "      fill: #174EA6;\n",
              "    }\n",
              "\n",
              "    [theme=dark] .colab-df-convert {\n",
              "      background-color: #3B4455;\n",
              "      fill: #D2E3FC;\n",
              "    }\n",
              "\n",
              "    [theme=dark] .colab-df-convert:hover {\n",
              "      background-color: #434B5C;\n",
              "      box-shadow: 0px 1px 3px 1px rgba(0, 0, 0, 0.15);\n",
              "      filter: drop-shadow(0px 1px 2px rgba(0, 0, 0, 0.3));\n",
              "      fill: #FFFFFF;\n",
              "    }\n",
              "  </style>\n",
              "\n",
              "      <script>\n",
              "        const buttonEl =\n",
              "          document.querySelector('#df-43c4934c-fd25-4e64-a52f-9a9f01f2beb0 button.colab-df-convert');\n",
              "        buttonEl.style.display =\n",
              "          google.colab.kernel.accessAllowed ? 'block' : 'none';\n",
              "\n",
              "        async function convertToInteractive(key) {\n",
              "          const element = document.querySelector('#df-43c4934c-fd25-4e64-a52f-9a9f01f2beb0');\n",
              "          const dataTable =\n",
              "            await google.colab.kernel.invokeFunction('convertToInteractive',\n",
              "                                                     [key], {});\n",
              "          if (!dataTable) return;\n",
              "\n",
              "          const docLinkHtml = 'Like what you see? Visit the ' +\n",
              "            '<a target=\"_blank\" href=https://colab.research.google.com/notebooks/data_table.ipynb>data table notebook</a>'\n",
              "            + ' to learn more about interactive tables.';\n",
              "          element.innerHTML = '';\n",
              "          dataTable['output_type'] = 'display_data';\n",
              "          await google.colab.output.renderOutput(dataTable, element);\n",
              "          const docLink = document.createElement('div');\n",
              "          docLink.innerHTML = docLinkHtml;\n",
              "          element.appendChild(docLink);\n",
              "        }\n",
              "      </script>\n",
              "    </div>\n",
              "  </div>\n",
              "  "
            ]
          },
          "metadata": {}
        }
      ]
    },
    {
      "cell_type": "code",
      "source": [
        "# 데이터 결측치 확인하기\n",
        "data.isnull().sum()"
      ],
      "metadata": {
        "colab": {
          "base_uri": "https://localhost:8080/"
        },
        "id": "YyGfYQheuUf4",
        "outputId": "be457ebf-c936-4a4f-f541-0d6b71748680"
      },
      "execution_count": 8,
      "outputs": [
        {
          "output_type": "execute_result",
          "data": {
            "text/plain": [
              "Name            0\n",
              "Reviews Text    1\n",
              "dtype: int64"
            ]
          },
          "metadata": {},
          "execution_count": 8
        }
      ]
    },
    {
      "cell_type": "code",
      "source": [
        "# 데이터 결측치 제거 후 결측치 다시 확인\n",
        "data = data[data['Reviews Text'].notnull()].reset_index(drop=True)\n",
        "data.isnull().sum()"
      ],
      "metadata": {
        "colab": {
          "base_uri": "https://localhost:8080/"
        },
        "id": "4zkBjxgRuio8",
        "outputId": "6b54d9ac-5023-48b2-a329-6d8c4c9fd3e4"
      },
      "execution_count": 9,
      "outputs": [
        {
          "output_type": "execute_result",
          "data": {
            "text/plain": [
              "Name            0\n",
              "Reviews Text    0\n",
              "dtype: int64"
            ]
          },
          "metadata": {},
          "execution_count": 9
        }
      ]
    },
    {
      "cell_type": "code",
      "source": [
        "# 불용어 적용 후 'Reviews Text'에 대한 tf-idf 수행\n",
        "tfidf = TfidfVectorizer(stop_words='english')#yourcode # 기본적으로 정의되어있는 불용어 적용\n",
        "\n",
        "tfidf_matrix = tfidf.fit_transform(data['Reviews Text'])\n",
        "print(tfidf_matrix.shape)"
      ],
      "metadata": {
        "colab": {
          "base_uri": "https://localhost:8080/"
        },
        "id": "0u0wWY6TvgVV",
        "outputId": "f5136957-d114-49a1-8c56-57e8108ac3bd"
      },
      "execution_count": 10,
      "outputs": [
        {
          "output_type": "stream",
          "name": "stdout",
          "text": [
            "(2889, 5618)\n"
          ]
        }
      ]
    },
    {
      "cell_type": "code",
      "source": [
        "# 코사인 유사도 계산하기\n",
        "cosine_matrix = cosine_similarity(tfidf_matrix, tfidf_matrix)\n",
        "data = data.loc[:].reset_index(drop=True)"
      ],
      "metadata": {
        "id": "piSsDAL2wrdX"
      },
      "execution_count": 11,
      "outputs": []
    },
    {
      "cell_type": "code",
      "source": [
        "# wine name와 id를 매핑할 dictionary 생성\n",
        "wine2id = {}\n",
        "for i, c in enumerate(data['Name']): wine2id[i] = c\n",
        "\n",
        "# id와 wine name를 매핑할 dictionary 생성\n",
        "id2wine = {}\n",
        "for i, c in wine2id.items(): id2wine[c] = i"
      ],
      "metadata": {
        "id": "eJ7w8kFsw54U"
      },
      "execution_count": 12,
      "outputs": []
    },
    {
      "cell_type": "code",
      "source": [
        "# id2wine 딕셔너리 확인\n",
        "id2wine"
      ],
      "metadata": {
        "colab": {
          "base_uri": "https://localhost:8080/"
        },
        "id": "w3U5uS2kxVFa",
        "outputId": "80df4b59-0bb4-4307-941f-8eb5469e2456"
      },
      "execution_count": 13,
      "outputs": [
        {
          "output_type": "execute_result",
          "data": {
            "text/plain": [
              "{'Ecco Domani174 Pinot Grigio - 750ml Bottle': 0,\n",
              " 'Fresh Craft174 Mango Citrus - 4pk / 250ml Bottle': 1,\n",
              " '1000 Stories174 Zinfandel - 750ml Bottle': 3,\n",
              " 'Pink Moscato - 3l Bottle - Wine Cube153': 4,\n",
              " \"Beck's174 Non Alcoholic Beer - 6pk / 12oz Bottles\": 5,\n",
              " 'Apothic174 Red Blend - 750ml Bottle': 7,\n",
              " 'California Roots Moscato White Wine - 750ml': 8,\n",
              " 'Charles Charles174 Red Blend - 750ml Bottle': 9,\n",
              " 'Fancy Pants174 Sauvignon Blanc - 750ml Bottle': 10,\n",
              " 'Martini Rossi174 Asti Spumante Sparkling Wine - 750ml Bottle': 11,\n",
              " '603174 Winni Amber Ale - 6pk / 12oz Cans': 12,\n",
              " '603174 White Peaks Ipa - 6pk / 12oz Cans': 14,\n",
              " 'Sofia Coppola174 Riesling - 750ml Bottle': 15,\n",
              " 'California Roots Pinot Grigio White Wine - 750ml': 16,\n",
              " 'Sancho Libre174 Peach - 4pk / 12oz Cans': 17,\n",
              " 'Modern House174 With Love Red Blend - 750ml Bottle': 18,\n",
              " 'Estancia174 Cabernet Sauvignon - 750ml Bottle': 19,\n",
              " 'Voga Italia174 Pinot Grigio - 750ml Bottle': 20,\n",
              " 'Michelob174 Ultra Light Cider Beer - 6pk / 12oz Bottles': 21,\n",
              " 'Cabernet Shiraz - 3l Bottle - Wine Cube153': 22,\n",
              " 'Cabernet Sauvignon - 3l Bottle - Wine Cube153': 23,\n",
              " \"Risata174 Moscato D'asti - 750ml Bottle\": 24,\n",
              " 'Barefoot174 Refresh Perfectly Pink - 750ml Bottle': 25,\n",
              " 'Tecate174 Beer - 12pk / 12oz Bottles': 26,\n",
              " 'Bud Light174 Raz-Ber-Rita - 12pk / 8oz Cans': 27,\n",
              " 'California Roots Cabernet Sauvignon Red Wine - 750ml': 28,\n",
              " 'Middle Sister174 Red Blend - 750ml Bottle': 29,\n",
              " 'Robert Mondavi Private Selection174 Bourbon Cabernet Sauvignon - 750ml Bottle': 30,\n",
              " 'Riesling - 3l Bottle - Wine Cube153': 31,\n",
              " 'Risata174 Pink Moscato - 750ml Bottle': 32,\n",
              " 'Middle Sister174 Moscato - 750ml Bottle': 33,\n",
              " 'Love Noir174 Ros233 - 750ml Bottle': 34,\n",
              " 'Handsome Devil174 Malbec - 750ml Bottle': 35,\n",
              " 'Apothic174 White Blend - 750ml Bottle': 36,\n",
              " 'Pinot Noir - 3l Bottle - Wine Cube153': 37,\n",
              " 'Love Noir174 Pinot Noir - 750ml Bottle': 38,\n",
              " 'Promisqous174 Red Blend - 750ml Bottle': 39,\n",
              " 'Chardonnay - 3l Bottle - Wine Cube153': 40,\n",
              " 'Red Blend - 500ml Bottle - Wine Cube153': 41,\n",
              " 'Sauvignon Blanc - 3l Bottle - Wine Cube153': 43,\n",
              " 'California Roots Chardonnay White Wine - 750ml': 45,\n",
              " 'Red Blend - 3l Bottle - Wine Cube153': 46,\n",
              " 'Disaronno174 Almond Liqueur - 750ml Bottle': 47,\n",
              " 'Pinot Grigio - 500ml Bottle - Wine Cube153': 48,\n",
              " 'California Roots Red Blend Wine - 750ml': 49,\n",
              " 'Chardonnay - 1l Bottle - Wine Cube153': 50,\n",
              " 'Fancy Pants174 Cabernet Sauvignon - 750ml Bottle': 51,\n",
              " 'Beringer174 Be. Flirty Pink Moscato - 750ml Bottle': 52,\n",
              " 'Fancy Pants174 Red Blend - 750ml Bottle': 53,\n",
              " 'Josh Cellars174 Ros233 - 750ml Bottle': 54,\n",
              " 'Sofia Rose 750ml Bottle': 56,\n",
              " 'Strongbow174 Gold Apple Hard Cider - 6pk / 11.2oz Bottles': 57,\n",
              " 'Spiked Seltzer174 Indian River Grapefruit - 6pk / 12oz Cans': 58,\n",
              " 'Truly174 Colima Lime - 6pk / 12oz Bottles': 59,\n",
              " 'Cupcake Vineyards174 Cabernet Sauvignon - 750ml Bottle': 60,\n",
              " 'Truly174 Grapefruit Pomelo - 6pk / 12oz Bottles': 61,\n",
              " 'Cayman Jack174 Margarita Malt Beverage - 6pk / 11.2oz Bottles': 62,\n",
              " \"George Killian's174 Premium Irish Red - 6pk / 12oz Bottles\": 63,\n",
              " 'Entwine174 Cabernet Sauvignon - 750ml Bottle': 64,\n",
              " 'La Marca174 Prosecco - 750ml Bottle': 65,\n",
              " 'Alamos174 Malbec - 750ml Bottle': 66,\n",
              " 'Bogle Vineyards174 Chardonnay - 750ml Bottle': 67,\n",
              " 'Black Box174 Cabernet Sauvignon - 3l Bottle': 70,\n",
              " 'Jim Beam174 Bourbon Whiskey - 1.75l Bottle': 93,\n",
              " 'Yellow Tail174 Cabernet Sauvignon - 1.5l Bottle Bottle': 94,\n",
              " 'El Jimador174 Tequila Reposado - 750ml Bottle': 95,\n",
              " \"Basil Hayden's174 Bourbon - 750ml Bottle\": 99,\n",
              " \"Cook's174 Brut Champagne - 750ml Bottle\": 100,\n",
              " 'Menage A Trois174 Silk Red Blend - 750ml Bottle': 101,\n",
              " 'Barefoot174 Riesling - 1.5l Bottle Bottle': 102,\n",
              " 'Davinci174 Chianti - 750ml Bottle': 103,\n",
              " 'Hornitos Reposado Tequila - 750ml': 107,\n",
              " 'Pinnacle174 Whipped Cream Flavored Vodka - 750ml Bottle': 113,\n",
              " 'Skinnygirl174 Original Margarita - 750ml Bottle': 114,\n",
              " 'Mirassou174 Pinot Noir - 750ml Bottle': 115,\n",
              " \"Seagram's174 Escapes Malt Beverage Variety Pack - 12pk / 12oz Bottles\": 120,\n",
              " 'Apothic174 Dark Red Blend - 750ml Bottle': 122,\n",
              " 'Rumchata174 Caribbean Rum - 750ml Bottle': 123,\n",
              " 'Sauza174 Silver Tequila - 750ml Bottle': 124,\n",
              " 'Corona Extra174 Beer - 12pk / 12oz Bottles': 125,\n",
              " 'Bud Light174 Lime Beer - 12pk / 12oz Cans': 126,\n",
              " 'Absolut174 Mandarin Vodka - 750ml Bottle': 127,\n",
              " 'Menage A Trois174 Red Blend - 750ml Bottle': 130,\n",
              " 'Schmitt Sohne174 Relax Riesling - 750ml Bottle': 131,\n",
              " 'Blue Moon174 Belgian White Wheat Ale - 12pk / 12oz Bottles': 132,\n",
              " 'Kinky174 Fruit Liqueur - 750ml Bottle': 133,\n",
              " 'Corona Light174 Beer - 6pk / 12oz Bottles': 143,\n",
              " 'Chateau Ste Michelle174 Riesling - 750ml Bottle': 144,\n",
              " \"Leinenkugel's174 Sunset Wheat Beer - 6pk / 12oz Bottles\": 145,\n",
              " 'Sierra Nevada174 Torpedo Extra Ipa Beer - 6pk / 12oz Bottles': 147,\n",
              " 'New Belgium174 Fat Tire Amber Ale - 12pk / 12oz Bottles': 148,\n",
              " 'Smirnoff174 Ice Party Pack - 12pk / 11.2oz Bottles': 149,\n",
              " 'Jim Beam Bourbon Whiskey Pet-750ml Bottle': 169,\n",
              " 'Josh Cellars174 Cabernet Sauvignon - 750ml Bottle': 171,\n",
              " 'Heineken174 Lager - 12pk / 12oz Bottles': 175,\n",
              " 'Effen174 Black Cherry Vodka - 750ml Bottle': 179,\n",
              " 'Sauza174 Gold Tequila - 750ml Bottle': 181,\n",
              " 'Starborough174 Sauvignon Blanc - 750ml Bottle': 182,\n",
              " 'Jim Beam174 Black Bourbon Whiskey - 750ml Bottle': 201,\n",
              " 'Bogle Vineyards174 Cabernet Sauvignon - 750ml Bottle': 203,\n",
              " \"Cook's174 Brut Champagne - 1.5l Bottle Bottle\": 204,\n",
              " 'Pinnacle Original Flavored Vodka - 1.75 L': 208,\n",
              " \"Sammy's Beach Bar174 White Rum - 750ml Bottle\": 209,\n",
              " 'Miller Genuine Draft174 Beer - 12pk / 12oz Bottles': 210,\n",
              " 'Lolailo174 Red Sangria - 1.5l Bottle Bottle': 217,\n",
              " 'Diseno174 Malbec - 750ml Bottle': 218,\n",
              " 'Frontera174 Cabernet/merlot - 1.5l Bottle Bottle': 222,\n",
              " 'Michelob174 Ultra Beer - 24pk / 12oz Cans': 223,\n",
              " 'Rolling Rock174 Extra Pale Beer - 12pk / 12oz Bottles': 224,\n",
              " \"Not Your Father's174 Vanilla Cream Ale - 6pk / 12oz Bottles\": 225,\n",
              " 'Heineken174 Lager - 6pk / 12oz Bottles': 228,\n",
              " '14 Hands174 Red Blend - 750ml Bottle': 229,\n",
              " 'Meiomi174 Pinot Noir - 750ml Bottle': 231,\n",
              " 'Jim Beam174 Apple Bourbon Whiskey - 750ml Bottle': 236,\n",
              " '19 Crimes174 Red Blend - 750ml Bottle': 238,\n",
              " 'Horintos Plata Tequila - 750ml Bottle': 246,\n",
              " 'Fetzer174 Gewurztraminer - 750ml Bottle': 247,\n",
              " 'Sierra Nevada174 Torpedo Extra Ipa - 12pk / 12oz Bottles': 249,\n",
              " 'Trump174 Chardonnay - 750ml Bottle': 250,\n",
              " 'Columbia Crest174 2 Vines Cabernet Sauvignon - 750ml Bottle': 253,\n",
              " 'Wild174 Blue Premium Blueberry Lager - 6pk / 12oz Bottles': 255,\n",
              " \"Kendall-Jackson Vintner's Reserve174 Chardonnay - 750ml Bottle\": 256,\n",
              " 'Jim Beam174 Bourbon Whiskey - 750ml Bottle': 263,\n",
              " 'Barefoot174 Moscato White Wine - 1.5l Bottle': 264,\n",
              " 'Cupcake Vineyards174 Red Velvet - 750ml Bottle': 265,\n",
              " 'Blackstone174 Merlot - 750ml Bottle': 266,\n",
              " 'Riunite174 Lambrusco - 1.5l Bottle Bottle': 270,\n",
              " 'Carnivor174 Cabernet Sauvignon - 750ml Bottle': 271,\n",
              " 'Bartenura174 Moscato - 750ml Bottle': 272,\n",
              " \"Luccio174 Moscato D'asti - 750ml Bottle\": 275,\n",
              " 'Cruz Garcia174 Red Sangria - 1.5l Bottle Bottle': 276,\n",
              " 'Stella Artois174 Premium Lager - 12pk / 11.2oz Bottles': 278,\n",
              " \"Daily's174 Frozen Pina Colada - 10oz Pouch\": 281,\n",
              " 'Roscato174 Sweet Red - 750ml Bottle': 287,\n",
              " 'Patron174 Silver Tequila - 375ml Bottle': 295,\n",
              " 'Moet Chandon174 Imperial Champagne - 750ml Bottle': 296,\n",
              " 'Scales Margarita Mix, 33.8 fl oz': 303,\n",
              " \"Zatarain's174 Root Beer Extract Bottle - 4 Floz\": 305,\n",
              " 'Oreo Hot Cocoa Chocolate Sandwich Cookies - 10.7oz': 307,\n",
              " 'Master of Mixes Big Bucket Premium Margarita Mixer, 96 fl oz': 348,\n",
              " 'Powell Mahoney174 Lemon Sour Mix - 750ml Bottle': 349,\n",
              " 'Mr _ Mrs T Margarita Mix, 5.5 fl oz, ()': 351,\n",
              " 'Cocktail Artist Essential Bar Ingredients Premium Mule Mix, 25.3 fl oz': 382,\n",
              " 'Beer Pong Nets by PongCaddie': 383,\n",
              " 'Fee Brothers Cherry Cocktail Bitters - 5 oz': 384,\n",
              " 'Zing Zang Bloody Mary Mix, 32 fl oz': 488,\n",
              " 'Solana Agave Blanco Tequila, 750 mL': 446,\n",
              " 'Crown Royal Maple Finish Whiskey, 750 mL': 447,\n",
              " 'Bella Bolle Bella Rosso Wine, 750 mL': 448,\n",
              " 'Jim Beam Black Bourbon Whiskey, 50 mL': 461,\n",
              " 'JCS Reggae Country Style Brand Ginger Beer Non-Alcoholic Soda, 12 fl oz': 463,\n",
              " 'Carlo Rossi Sangria Wine, 3 L': 464,\n",
              " 'Stirrings Cocktail Mixer, Peach Bellini, 750 mL': 490,\n",
              " 'Mr _ Mrs T Original Bloody Mary Mix, 1.75 L': 494,\n",
              " 'Stirrings Watermelon Mixer, 750 mL': 495,\n",
              " 'Clamato Original Tomato Cocktail - 64 Fl Oz Bottle': 560,\n",
              " 'Coco Real174 Cream Of Coconut Drink Mix - 21oz': 561,\n",
              " 'Peychauds Aromatic Cocktail Bitters - 10 oz': 574,\n",
              " 'Master of Mixes Big Bucket Strawberry Margarita Daiquiri Mixer, 96 fl oz': 596,\n",
              " 'Mr _ Mrs T Bold _ Spicy Bloody Mary Mix, 1.75 L': 621,\n",
              " 'Mr _ Mrs T Strawberry Daiquiri Margarita Mix, 33.8 oz ()': 622,\n",
              " 'La Marca Prosecco Sparkling Wine, 750 mL': 623,\n",
              " 'Knob Creek Kentucky Straight Bourbon Whiskey, 1.75 L': 636,\n",
              " 'Admiral Nelson Spiced Rum, 1.75 L': 637,\n",
              " 'Martini _ Rossi Asti Sparkling Wine, 750 mL': 639,\n",
              " 'Bartles _ Jaymes Margarita Cocktail,  355 mlL': 640,\n",
              " 'Switchblade Jack Pumpkin Ale, Beer Making Ingredient Extract Kit': 657,\n",
              " 'Malta Goya Malt Beverage, 7 fl oz': 675,\n",
              " \"Chef's Finest Tri-Color Tortilla Strips, 4 oz\": 678,\n",
              " 'Hornitos Reposado Tequila, 1.0 L': 681,\n",
              " 'Jim Beam Black Bourbon Whiskey, 1.0 L': 694,\n",
              " 'Gerrit Verburg Wine Gums, (6.6 Pounds)': 706,\n",
              " 'Canada Dry Ginger Ale - 1 L Bottle': 729,\n",
              " 'Mr. Brown Iced Coffee 8.12 fl. oz.': 730,\n",
              " \"Cole's Cheese Sticks With Mozzarella 11.5 Oz\": 737,\n",
              " 'Modern Cocktail Modern Martinis, 11.8 Oz ()': 742,\n",
              " \"Rose's Cocktail Infusions Sour Apple Mix, 20 fl oz\": 746,\n",
              " 'Goya Ginger Beer Soda, 12 fl oz': 747,\n",
              " 'Bar-S Bun Length Franks Family Pack, 48 oz': 759,\n",
              " 'Liberty Creek Pink Moscato Wine, 1.5 L': 760,\n",
              " \"Gosling's Diet Ginger Beer, 12 fl oz\": 767,\n",
              " 'Oak Leaf Pinot Grigio Wine, 3 L': 768,\n",
              " 'Sauza Hornitos Reposado Tequila, 1.75 L': 771,\n",
              " 'Jim Beam Bourbon Kentucky Straight Bourbon Whiskey, 200 mL': 785,\n",
              " 'Oak Leaf Sangria Wine, 750 mL': 786,\n",
              " 'Stella Rosa Berry Wine, 750 mL': 787,\n",
              " 'Sauza Tequila Gold, 1 L': 788,\n",
              " 'Master of Mixes Pina Colada Mix, 1.75 L': 790,\n",
              " 'IRISH RED ALE Extract Beer Brewing recipe Homebrew kit Malt hops _ grains': 792,\n",
              " 'Biosilk Hydrating Shampoo, 12 Fl Oz': 796,\n",
              " \"Pat O'Brien's Hurricane Cocktail Mix, 9 oz\": 797,\n",
              " 'MASTER OF MIXES, MIX OLD FASHION, 33.8 OZ, ()': 801,\n",
              " 'Angostura Aromatic Bitters, 16 fl oz, ()': 803,\n",
              " 'Great Value Boneless Buffalo Style Chunks, 25.5 Oz': 859,\n",
              " 'Rockdale Light Beer, 12 fl oz': 861,\n",
              " 'Hornitos Reposado Tequila, 375 mL': 864,\n",
              " 'Effen Cucumber Vodka, 750 mL': 866,\n",
              " '***Discontinued***Virgils BG19411 Virgils Root Beer - 6x': 869,\n",
              " 'Trouble Brewing Variety Pack, 12 fl oz': 870,\n",
              " 'Hornitos Plata Tequila, 1.75 L': 875,\n",
              " 'Stella Rosa Moscato Wine, 750 mL': 877,\n",
              " 'Budweiser Lager Beer, 16 fl oz': 878,\n",
              " 'Master of Mixes Cocktail Essentials Lime Juice, 375 ML ()': 879,\n",
              " 'Urban Moonshine - Organic Bitters Original - 2 oz.': 881,\n",
              " 'Dirty Sue Premium Olive Brine Juice Martini Mix - 375 ml': 929,\n",
              " 'Modern Cocktail Lite Vrty Pk, 11.8 OZ ()': 939,\n",
              " \"DAILY'S MARGARITA FROZEN POUCH\": 940,\n",
              " 'Big Bucket Premium Margarita Mixer, 96.0 FL OZ': 947,\n",
              " 'Fever Tree174 Tonic Water - 4pk / 6.8oz Bottle': 960,\n",
              " 'Cobblestone Bread Co. Original English Muffins, 6 ct, 12 oz': 971,\n",
              " 'Woodbridge by Robert Mondavi Cabernet Sauvignon Wine, 1.5 L': 972,\n",
              " 'Woodbridge by Robert Mondavi Chardonnay Wine, 1.5 L': 973,\n",
              " 'Mr _ Mrs T Original Bloody Mary Mix, 59.2 fl oz, ()': 976,\n",
              " 'Cocktail Artist Essential Bar Ingredients Premium Manhattan Mix, 25.3 fl oz': 1009,\n",
              " 'Jose Cuervo Classic Lime The Original Margarita Mix, 33.8 fl oz': 1013,\n",
              " 'Pain Is Good Most Wanted Cajun Spice Bloody Mary Mix, 32 fl oz': 1016,\n",
              " 'Bud Light Lime Grape-Ahh-Rita Margarita, 25 fl oz': 1017,\n",
              " 'Pinnacle Whipped Flavored Vodka, 375 mL': 1018,\n",
              " 'Jim Beam Black Bourbon Whiskey, 375.0 ML': 1031,\n",
              " \"Jack Daniel's Master Distiller Series Tennessee Whiskey, 750mL\": 1052,\n",
              " 'Schweppes Diet Tonic Water, 1 L': 1067,\n",
              " 'Apothic Red Wine, 750 mL': 1068,\n",
              " 'Jim Beam Apple Bourbon Whiskey, 1 L': 1077,\n",
              " 'Powell Mahoney174 Bloody Mary Mix - 750ml Bottle': 1078,\n",
              " 'Jose Cuervo174 Light Margarita Mix - 1.75l Bottle': 1103,\n",
              " 'Powell Mahoney174 Margarita - 750ml Bottle': 1125,\n",
              " '16oz. Angostura Aromatic Bitters Cocktail Flavoring Bar Mixer': 1126,\n",
              " 'Bittermens Xocolatl Mole Cocktail Bitters - 5 oz': 1254,\n",
              " 'Margaritaville Margarita Mix, 59.2 oz ()': 1255,\n",
              " 'Master of Mixes Bloody Mary Mixer, 5 Pepper Extra Spicy, 1.75 Lt': 1256,\n",
              " 'Gmax g144105 gm44 full face red wine m': 1267,\n",
              " 'Master of Mixes Mango Daiquiri Margarita Mixer, 33.8 fl oz': 1287,\n",
              " 'Angostura Aromatic Bitters': 1297,\n",
              " \"Master of Mixes Sweet'n Sour Mixer, 1 L\": 1310,\n",
              " 'Jim Beam White Bourbon, 375 mL': 1324,\n",
              " 'Sauza Signature Blue Silver Tequila, 1 L': 1327,\n",
              " 'Clos du Bois Chardonnay Wine, 750 mL': 1328,\n",
              " 'Mogen David Blackberry Wine, 1.5 L': 1329,\n",
              " 'Pinnacle Original Flavored Vodka, 1.0 L': 1332,\n",
              " \"Jack Daniel's Winter Jack Whiskey, 750 mL\": 1333,\n",
              " 'Duplin Carolina Red Wine, 750 mL': 1334,\n",
              " 'Jim Beam Apple Bourbon Whiskey, 100.0 ML': 1343,\n",
              " 'Jose Cuervo174 Original Margarita Mix - 1.75l Bottle': 1348,\n",
              " 'Jose Cuervo174 Mango Margarita Mix - 1.75l Bottle': 1355,\n",
              " 'Blue Moon® Belgian White Belgian-Style Wheat Ale 24-12 fl. oz. Bottles': 1356,\n",
              " 'Master of Mixes Cosmopolitan Martini Mixer, 33.8 fl oz': 1359,\n",
              " 'Cra-Z-Art Sidewalk Chalk': 1361,\n",
              " 'Margaritaville Mango Margarita Cocktail Mix, 33.8 oz ()': 1363,\n",
              " 'Master Of Mixes Mango Daiquiri/Margarita Mixer, 33.8 oz ()': 1374,\n",
              " 'Gmax g144104 gm44 full face red wine s': 1386,\n",
              " 'Original Digestive Bitters': 1387,\n",
              " 'Modern Cocktail Tropical High Balls, 11.8 Oz ()': 1390,\n",
              " \"Rose's Cocktail Infusions, Pomegranate Twist, 20 Fl Oz\": 1392,\n",
              " \"Sam's Choice Sliced Sourdough Boule, 18 oz\": 1393,\n",
              " 'Oak Leaf Moscato Wine, 3 L': 1394,\n",
              " 'Great Value Original Crescent Rolls, 8 oz': 1451,\n",
              " 'Woodford Reserve Spiced Cherry Bourbon Barrel Aged Cocktail Bitters - 2 oz': 1452,\n",
              " 'Malbec Fontana Wine Making Kit Premium 23 Liters': 1460,\n",
              " 'Mr & Mrs T Mai Tai Mix, 33.8 oz (Pack of 6)': 1465,\n",
              " 'Master Of Mixes Mojito Cocktail Mix, 33.81 oz ()': 1468,\n",
              " 'Great Value Butter Texas Style Biscuits, 6 oz': 1469,\n",
              " 'Shasta Variety Pack - 24/12 fl. oz. cans': 1473,\n",
              " 'De Wafelbakkers Frozen Chocolate Chip Pancakes, 2 lb 1 oz': 1486,\n",
              " 'Master of Mixes Strawberry Daiquiri/Margarita Mixer, 1.75 L': 1494,\n",
              " 'Mr _ Mrs T Bold _ Spicy Bloody Mary Mix, 59.2 fl oz, ()': 1499,\n",
              " 'Mr _ Mrs T Margarita Mix, 33.8 oz ()': 1501,\n",
              " 'Regatta Artisanal Ginger Beer Soda, 12 fl oz, ()': 1502,\n",
              " 'Mr _ Mrs T Whiskey Sour Mix, 33.8 oz ()': 1504,\n",
              " 'Manischewitz Potato Starch, 16.0 OZ': 1505,\n",
              " 'Kalamera 12 Bottle Single Zone Freestanding Wine Cooler': 1516,\n",
              " 'Fiber Choice Prebiotic Fiber Supplement Sugar-Free Chewable Tablets Assorted Fruit - 90 CT': 1541,\n",
              " 'Fermtech Wine/Beer Thief, 19 Long': 1555,\n",
              " 'Powell _ Mahoney Cocktail Mixer, Chipotle Bloody Mary, 750 Ml': 1556,\n",
              " 'Powell _ Mahoney Old Ballycastle Ginger Vintage Original Cocktail Mixer - 750 ml': 1559,\n",
              " 'Belle Red Blend Wine, 750 mL': 1560,\n",
              " 'Ore-Ida174 Bagel Bites174 Cheese And Pepperoni Mini Bagels 7 Oz': 1563,\n",
              " 'Coco Real Cream Of Coconut, 21 oz ()': 1565,\n",
              " 'Mr _ Mrs T Original Bloody Mary Mix, 5.5 fl oz': 1573,\n",
              " \"Regan's Orange Bitters No. 6 - 5 oz Bottle\": 1581,\n",
              " 'Angostura Orange Bitters, 4 fl oz, ()': 1587,\n",
              " 'Master of Mixes Handcrafted Mojito Mixer, 33.8 FL OZ': 1588,\n",
              " 'Helados Mexico Paletas Coco Premium Bolis, 5.0 fl oz': 1590,\n",
              " 'Brisk174 Raspberry Iced Tea - 12pk/12 Fl Oz Bottles': 1591,\n",
              " 'Master Of Mixes Collins Mixer, 1 l (Pack of 6)': 1597,\n",
              " 'Plain Gold Crowns for Beer Bottles, 1 Gross of Caps': 1601,\n",
              " 'Mr _ Mrs T Blood Mary Bold _ Spicy Mix, 33.8 oz ()': 1602,\n",
              " 'Master Of Mixes Pina Colada Cocktail Mix, 59.2 oz ()': 1604,\n",
              " 'Cote des Blancs Wine Yeast -s': 1618,\n",
              " 'Alstertor Mustard Mug, 8.45 Ounce': 1626,\n",
              " 'Carmex Lip Balm Original Jar - 12 PK, 12.': 2671,\n",
              " 'Dry Cured Chorizo by Les Trois Petits Cochons': 2672,\n",
              " 'Goya Cooking Red Wine, 25.4 Oz': 2680,\n",
              " 'Don Bruno Sherry Vinegar, Aged, 25.4 Oz': 2681,\n",
              " 'Vita Wild Herring In Wine Sauce, 32.0 OZ': 2682,\n",
              " 'Pasteur Red Dried Wine Yeast (ets)': 2692,\n",
              " '2013 Onehope California Cabernet Sauvignon': 2696,\n",
              " '2015 Apothic California Crush 750mL': 2700,\n",
              " 'Lubricant Eye Ointment - 0.12 Fl Oz - Up Up153': 2701,\n",
              " \"Silver Spring Beer'n Brat Horseradish Mustard Good'n Hot, 9.5 OZ\": 2705,\n",
              " 'SH 11/13 Vintage Wine Estates 3 Bottle Harvest Collection': 2706,\n",
              " 'SH 11/13 Vintage Wine Estates 12 Bottle Harvest Collection': 2707,\n",
              " 'Pectic Enzyme (powder) - 1 Lb.': 2715,\n",
              " 'Parducci Wine Cellars Classic Edition': 2717,\n",
              " 'Barefoot Cellars California Sampler Wine Mixed Pack': 2725,\n",
              " 'Naked Winery Best Sellers Ii Mixed Pack, 4 X 750 Ml': 2733,\n",
              " 'Vintage Wine Estates 3 Bottle Harvest Collection': 2737,\n",
              " 'Vintage Wine Estates 12 Bottle Harvest Collection': 2740,\n",
              " \"Pickett's #1 Medium Spice Ginger Beer All Natural Concentrated Syrup - 16 Oz\": 2751,\n",
              " 'Fever Tree Soda Ginger Beer Premium': 2756,\n",
              " 'ONEHOPE California Reds Wine Mixed Pack': 2771,\n",
              " '2015 Apothic California Dark 750mL': 2777,\n",
              " 'Vintage Wine Estates 3 Bottle Harvest Collection Auto-Delivery': 2781,\n",
              " 'Smoking Loon Wine Mixed Pack': 2783,\n",
              " 'Rye Malt (10 Lb)': 2784,\n",
              " 'Vintage Wine Estates 12 Bottle Harvest Collection Auto-Delivery': 2795,\n",
              " 'Trademark Innovations Rotomolded Cooler and Ice Chest, 30 Q': 2796,\n",
              " \"Vintage Wine Kevin O'Leary 12 Bottle Holiday Reserve Wines\": 2798,\n",
              " \"Vintage Wine Kevin O'Leary 3 Bottle Holiday Reserve Auto-Delivery\": 2799,\n",
              " \"Vintage Wine Kevin O'Leary 3 Bottle Holiday Reserve Wines\": 2802,\n",
              " \"Vintage Wine Kevin O'Leary 12 Bottle Holiday Reserve Auto-Delivery\": 2806,\n",
              " 'SH11/13 Vintage Wine Estates 12 Bottle Harvest Collection Auto-Delivery': 2809,\n",
              " 'Kool-Aid Bursts Cherry Soft Drink, 40.5 FL OZ (1.2l)': 2812,\n",
              " 'Melitta Café De Europa Collection Decaffeinated 10oz': 2814,\n",
              " 'Bellei White Wine Vinegar 17 Fl.oz.': 2819,\n",
              " 'NV Hazlitt 1852 Vineyards Sweet Deal': 2827,\n",
              " '1 Lb. Potassium Sorbate Preservative Food Grade Wine Stabilizer Beer Wine Making': 2835,\n",
              " 'Wild Ride Cabernet Red Wine Gift Set': 2843,\n",
              " \"Vintage Wine Estates Kevin O'Leary Select Reserve 3Bottle Auto-Delivery\": 2853,\n",
              " \"Vintage Wine Estates Kevin O'Leary Select 12 Bottle Auto-Delivery\": 2863,\n",
              " \"Vintage Wine Estates Kevin O'Leary's Select Reserve 12 Bottle Set\": 2877,\n",
              " \"Vintage Wine Estates Kevin O'Leary's Select Reserve 3 Bottle Set\": 2888}"
            ]
          },
          "metadata": {},
          "execution_count": 13
        }
      ]
    },
    {
      "cell_type": "code",
      "source": [
        "# 와인 추천시스템 함수 생성\n",
        "def wine_recosys(wine_name):\n",
        "  idx = id2wine[wine_name] \n",
        "  sim_scores = [(i, c) for i, c in enumerate(cosine_matrix[idx]) if i != idx] # 자기 자신을 제외한 와인들의 유사도 및 인덱스를 추출 \n",
        "  sim_scores = sorted(sim_scores, key = lambda x: x[1], reverse=True) # 유사도가 높은 순서대로 정렬 \n",
        "  sim_scores[0:10] # 상위 10개의 인덱스와 유사도를 추출\n",
        "  sim_scores = [(wine2id[i], score) for i, score in sim_scores[0:10] if i in wine2id]\n",
        "  return sim_scores #your code"
      ],
      "metadata": {
        "id": "uAFqqlN84Vib"
      },
      "execution_count": 14,
      "outputs": []
    },
    {
      "cell_type": "code",
      "source": [
        " # 위의 딕셔너리에서 마음에 드는 와인 이름을 wine_recosys 함수에 입력해보세요.\n",
        " # 단, string 형태로 입력해야 합니다.\n",
        "wine_recosys('Hornitos Reposado Tequila, 1.0 L')"
      ],
      "metadata": {
        "colab": {
          "base_uri": "https://localhost:8080/"
        },
        "id": "gkrT0BHj5K9i",
        "outputId": "eb4258e3-a928-420b-90af-78fa4f4adafa"
      },
      "execution_count": 15,
      "outputs": [
        {
          "output_type": "execute_result",
          "data": {
            "text/plain": [
              "[('Hornitos Reposado Tequila - 750ml', 1.0000000000000002),\n",
              " ('Sauza Hornitos Reposado Tequila, 1.75 L', 1.0000000000000002),\n",
              " ('Hornitos Reposado Tequila, 375 mL', 1.0000000000000002),\n",
              " ('Knob Creek Kentucky Straight Bourbon Whiskey, 1.75 L', 0.7120009813752735),\n",
              " ('Kinky174 Fruit Liqueur - 750ml Bottle', 0.536883484024857),\n",
              " ('Powell _ Mahoney Old Ballycastle Ginger Vintage Original Cocktail Mixer - 750 ml',\n",
              "  0.41491550999274873),\n",
              " ('Zing Zang Bloody Mary Mix, 32 fl oz', 0.3827522642981839),\n",
              " ('Zing Zang Bloody Mary Mix, 32 fl oz', 0.3827522642981839),\n",
              " ('Knob Creek Kentucky Straight Bourbon Whiskey, 1.75 L', 0.3099535479587766),\n",
              " ('Master of Mixes Mango Daiquiri Margarita Mixer, 33.8 fl oz',\n",
              "  0.24352306977838606)]"
            ]
          },
          "metadata": {},
          "execution_count": 15
        }
      ]
    },
    {
      "cell_type": "markdown",
      "source": [
        "## 추가 과제"
      ],
      "metadata": {
        "id": "TC0GRS6zzDlF"
      }
    },
    {
      "cell_type": "code",
      "source": [
        "text = data['Reviews Text'][22]"
      ],
      "metadata": {
        "id": "SwGPK5MV8IxH"
      },
      "execution_count": 16,
      "outputs": []
    },
    {
      "cell_type": "code",
      "execution_count": 17,
      "metadata": {
        "colab": {
          "base_uri": "https://localhost:8080/"
        },
        "id": "2pQH06uLkTwn",
        "outputId": "50f4a463-7946-47fa-c635-86e8bc6f73b1"
      },
      "outputs": [
        {
          "output_type": "stream",
          "name": "stdout",
          "text": [
            "Best of the bunch of all of The wine Cube sku's. Target Wine Buyer: please bring back!\n",
            "nltk의 word_tokenize 토큰화:  ['Best', 'of', 'the', 'bunch', 'of', 'all', 'of', 'The', 'wine', 'Cube', 'sku', \"'s\", '.', 'Target', 'Wine', 'Buyer', ':', 'please', 'bring', 'back', '!']\n",
            "nltk의 WordPunctTokenizer 토큰화:  ['Best', 'of', 'the', 'bunch', 'of', 'all', 'of', 'The', 'wine', 'Cube', 'sku', \"'\", 's', '.', 'Target', 'Wine', 'Buyer', ':', 'please', 'bring', 'back', '!']\n",
            "keras의 text_to_word_sequence 토큰화:  ['best', 'of', 'the', 'bunch', 'of', 'all', 'of', 'the', 'wine', 'cube', \"sku's\", 'target', 'wine', 'buyer', 'please', 'bring', 'back']\n"
          ]
        }
      ],
      "source": [
        "# 영어 단어 토큰화\n",
        "print(text)\n",
        "print('nltk의 word_tokenize 토큰화: ', word_tokenize(text))#your code)\n",
        "print('nltk의 WordPunctTokenizer 토큰화: ', WordPunctTokenizer().tokenize(text))#your code)\n",
        "print('keras의 text_to_word_sequence 토큰화: ',text_to_word_sequence(text)) #your code)"
      ]
    },
    {
      "cell_type": "markdown",
      "source": [
        "#### **위 3개의 토큰화를 하였을 때 차이점을 비교해서 적어보세요**\n",
        "3개의 토큰화의 다른 점:"
      ],
      "metadata": {
        "id": "s6KWhm8JNDud"
      }
    },
    {
      "cell_type": "code",
      "source": [
        "# 품사 태깅\n",
        "tokens = word_tokenize(text)\n",
        "print('단어 토큰화: ', tokens)\n",
        "print('pos_tag 품사 태깅:', pos_tag(tokens))#your code)"
      ],
      "metadata": {
        "id": "fFqkdKRfLmlB",
        "colab": {
          "base_uri": "https://localhost:8080/"
        },
        "outputId": "a150877d-d9c4-4010-ca5b-bdafe88d8c82"
      },
      "execution_count": 18,
      "outputs": [
        {
          "output_type": "stream",
          "name": "stdout",
          "text": [
            "단어 토큰화:  ['Best', 'of', 'the', 'bunch', 'of', 'all', 'of', 'The', 'wine', 'Cube', 'sku', \"'s\", '.', 'Target', 'Wine', 'Buyer', ':', 'please', 'bring', 'back', '!']\n",
            "pos_tag 품사 태깅: [('Best', 'JJS'), ('of', 'IN'), ('the', 'DT'), ('bunch', 'NN'), ('of', 'IN'), ('all', 'DT'), ('of', 'IN'), ('The', 'DT'), ('wine', 'NN'), ('Cube', 'NNP'), ('sku', 'NN'), (\"'s\", 'POS'), ('.', '.'), ('Target', 'NNP'), ('Wine', 'NNP'), ('Buyer', 'NNP'), (':', ':'), ('please', 'NN'), ('bring', 'VB'), ('back', 'RB'), ('!', '.')]\n"
          ]
        }
      ]
    },
    {
      "cell_type": "code",
      "source": [
        "# 정규 표현식을 사용한 토큰화\n",
        "re_tokenizer1 = RegexpTokenizer(\"\\s+\", gaps=True)#your code) # 공백을 기준으로 토큰화 진행하는 정규 표현식 작성\n",
        "\n",
        "print(re.findall('\\d+', text)) # # 숫자만 찾아내서 리스트로 리턴\n",
        "print(re_tokenizer1.tokenize(text))"
      ],
      "metadata": {
        "colab": {
          "base_uri": "https://localhost:8080/"
        },
        "id": "P9r5b3i5TQax",
        "outputId": "ab4c50a0-5e91-4c09-bf1c-8102a78f8bc4"
      },
      "execution_count": 31,
      "outputs": [
        {
          "output_type": "stream",
          "name": "stdout",
          "text": [
            "[]\n",
            "['Best', 'of', 'the', 'bunch', 'of', 'all', 'of', 'The', 'wine', 'Cube', \"sku's.\", 'Target', 'Wine', 'Buyer:', 'please', 'bring', 'back!']\n"
          ]
        }
      ]
    },
    {
      "cell_type": "code",
      "source": [
        "# 정수 인코딩을 위한 텍스트 전처리\n",
        "sentences = sent_tokenize(text)\n",
        "vocab = {}\n",
        "preprocessed_sentences = []\n",
        "stop_words = set(stopwords.words('english'))\n",
        "\n",
        "for sentence in sentences:\n",
        "  tokenized_sentence1 = word_tokenize(sentence)\n",
        "  result_1 = []\n",
        "\n",
        "  for word in tokenized_sentence1:\n",
        "    word = word.lower()#your code # 모두 소문자로 바꾸기\n",
        "    if word not in stop_words:\n",
        "      if len(word) > 2:\n",
        "        result_1.append(word)\n",
        "        if word not in vocab:\n",
        "          vocab[word] = 0\n",
        "        vocab[word] += 1\n",
        "  preprocessed_sentences.append(result_1)\n",
        "\n",
        "vocab_sorted = sorted(vocab.items(), key=lambda x:x[1], reverse = True)\n",
        "print(vocab_sorted)"
      ],
      "metadata": {
        "colab": {
          "base_uri": "https://localhost:8080/"
        },
        "id": "CdvQVU5faPcj",
        "outputId": "3c19ba57-d717-4a12-f9ca-247bed969a7f"
      },
      "execution_count": 20,
      "outputs": [
        {
          "output_type": "stream",
          "name": "stdout",
          "text": [
            "[('wine', 2), ('best', 1), ('bunch', 1), ('cube', 1), ('sku', 1), ('target', 1), ('buyer', 1), ('please', 1), ('bring', 1), ('back', 1)]\n"
          ]
        }
      ]
    },
    {
      "cell_type": "code",
      "source": [
        "word_to_index = {}\n",
        "i = 0\n",
        "for (word, frequency) in vocab_sorted:\n",
        "  if frequency > 1:\n",
        "    i = i+1\n",
        "    word_to_index[word] = i\n",
        "print(word_to_index)"
      ],
      "metadata": {
        "colab": {
          "base_uri": "https://localhost:8080/"
        },
        "id": "_5vBgaTWyugf",
        "outputId": "3e2d58c3-19ca-403f-8701-b5a95e0c58f6"
      },
      "execution_count": 39,
      "outputs": [
        {
          "output_type": "stream",
          "name": "stdout",
          "text": [
            "{'wine': 1}\n"
          ]
        }
      ]
    },
    {
      "cell_type": "code",
      "source": [
        "word_to_index['SEONG JUN'] = len(word_to_index) + 1 # KHUDA 대신 원하는 단어를 넣어보세요.\n",
        "print(word_to_index)"
      ],
      "metadata": {
        "colab": {
          "base_uri": "https://localhost:8080/"
        },
        "id": "o7CuPPME1Kce",
        "outputId": "54241611-ce0a-48be-d970-3d8b0e55cb1f"
      },
      "execution_count": 40,
      "outputs": [
        {
          "output_type": "stream",
          "name": "stdout",
          "text": [
            "{'wine': 1, 'SEONG JUN': 2}\n"
          ]
        }
      ]
    },
    {
      "cell_type": "code",
      "source": [
        "# 단어들을 맵핑되는 정수로 인코딩\n",
        "encoded_sentences = []\n",
        "for sentence in preprocessed_sentences:\n",
        "  encoded_sentence = []\n",
        "  for word in sentence:\n",
        "    try:\n",
        "      encoded_sentence.append(word_to_index[word])\n",
        "    except KeyError:\n",
        "      encoded_sentence.append(word_to_index['SEONG JUN'])\n",
        "  encoded_sentences.append(encoded_sentence)\n",
        "print(encoded_sentences)"
      ],
      "metadata": {
        "colab": {
          "base_uri": "https://localhost:8080/"
        },
        "id": "Sks-GV7i1ops",
        "outputId": "ad33905d-294c-4304-e831-f35cdab5eb2d"
      },
      "execution_count": 41,
      "outputs": [
        {
          "output_type": "stream",
          "name": "stdout",
          "text": [
            "[[2, 2, 1, 2, 2], [2, 1, 2, 2, 2, 2]]\n"
          ]
        }
      ]
    },
    {
      "cell_type": "code",
      "source": [
        "# numpy zero padding\n",
        "from tensorflow.keras.preprocessing.text import Tokenizer\n",
        "\n",
        "tokenizer2 = Tokenizer()\n",
        "tokenizer2.fit_on_texts(preprocessed_sentences)\n",
        "np_encoded = tokenizer2.texts_to_sequences(preprocessed_sentences)\n",
        "\n",
        "max_len = max_len = max(len(item) for item in np_encoded)#your code\n",
        "print('최대 길이: ', max_len)"
      ],
      "metadata": {
        "colab": {
          "base_uri": "https://localhost:8080/"
        },
        "id": "K1WnqNCl2mp0",
        "outputId": "3fcd9141-dc8a-4c74-a142-28edec6c996c"
      },
      "execution_count": 24,
      "outputs": [
        {
          "output_type": "stream",
          "name": "stdout",
          "text": [
            "최대 길이:  6\n"
          ]
        }
      ]
    },
    {
      "cell_type": "code",
      "source": [
        "for sentence in np_encoded:\n",
        "  while len(sentence) < max_len:\n",
        "    sentence.append(0)\n",
        "\n",
        "padded_np = np.array(np_encoded)\n",
        "padded_np"
      ],
      "metadata": {
        "colab": {
          "base_uri": "https://localhost:8080/"
        },
        "id": "9iK0Q7Pu3msn",
        "outputId": "af98bfbd-a6f3-45cd-912d-0e31aeda48e9"
      },
      "execution_count": 25,
      "outputs": [
        {
          "output_type": "execute_result",
          "data": {
            "text/plain": [
              "array([[ 2,  3,  1,  4,  5,  0],\n",
              "       [ 6,  1,  7,  8,  9, 10]])"
            ]
          },
          "metadata": {},
          "execution_count": 25
        }
      ]
    },
    {
      "cell_type": "code",
      "source": [
        "# keras padding\n",
        "from tensorflow.keras.preprocessing.sequence import pad_sequences\n",
        "encoded = tokenizer2.texts_to_sequences(preprocessed_sentences)\n",
        "padded = pad_sequences(encoded, padding='post') # 패딩할 때 뒤에 0을 붙여 길이를 맞춘다.\n",
        "padded"
      ],
      "metadata": {
        "colab": {
          "base_uri": "https://localhost:8080/"
        },
        "id": "Txs2Bpgu33CD",
        "outputId": "0e671cbb-f6bc-4462-c37a-91d14561017c"
      },
      "execution_count": 26,
      "outputs": [
        {
          "output_type": "execute_result",
          "data": {
            "text/plain": [
              "array([[ 2,  3,  1,  4,  5,  0],\n",
              "       [ 6,  1,  7,  8,  9, 10]], dtype=int32)"
            ]
          },
          "metadata": {},
          "execution_count": 26
        }
      ]
    },
    {
      "cell_type": "code",
      "source": [
        "# one-hot encoding\n",
        " \n",
        "okt = Okt()\n",
        "my_tokens = okt.morphs(\"잡 가고싶다\")#your code(\"최진우 교수님은 곽튜브를 닮았다. 살이 찌기 전에는 릴보이를 닮으셨다고 한다.\") # 원하는 문장을 넣어보세요.\n",
        "\n",
        "word_to_index = {word:index for index, word in enumerate(my_tokens)}\n",
        "print('단어 집합: ', word_to_index)"
      ],
      "metadata": {
        "colab": {
          "base_uri": "https://localhost:8080/"
        },
        "id": "U8LvQoPr32_5",
        "outputId": "e95ba020-c459-4b19-bc31-e62b8091d00e"
      },
      "execution_count": 27,
      "outputs": [
        {
          "output_type": "stream",
          "name": "stdout",
          "text": [
            "단어 집합:  {'잡': 0, '가고싶다': 1}\n"
          ]
        }
      ]
    },
    {
      "cell_type": "code",
      "source": [
        "# one-hot encoding 함수\n",
        "def one_hot_encoding(word, word_to_index):\n",
        "  one_hot_vector = [0]*(len(word_to_index))\n",
        "  index = word_to_index[word]\n",
        "  one_hot_vector[index] = 1\n",
        "  return one_hot_vector\n",
        "\n",
        "one_hot_encoding('잡', word_to_index)"
      ],
      "metadata": {
        "colab": {
          "base_uri": "https://localhost:8080/"
        },
        "id": "RUXpLrJO5y1A",
        "outputId": "0463ac27-318a-4e35-c27c-858d543473a4"
      },
      "execution_count": 28,
      "outputs": [
        {
          "output_type": "execute_result",
          "data": {
            "text/plain": [
              "[1, 0]"
            ]
          },
          "metadata": {},
          "execution_count": 28
        }
      ]
    },
    {
      "cell_type": "markdown",
      "source": [
        "#### **one-hot encoding의 장점과 한계점을 적어보세요.**\n",
        "*   one-hot encoding의 장점:\n",
        "1. 단어를 숫자로 바꿔준다.\n",
        "2. 데이터 변환 과정에서 손실이 거의 없다\n",
        "*   one-hot encoding의 한계점:\n",
        "1. 표현 방식은 단어의 개수가 늘어날 수록, 벡터를 저장하기 위해 필요한 공간이 계속 늘어난다는 단점이 있습니다\n",
        "2. 단어의 유사도를 알 수 없다"
      ],
      "metadata": {
        "id": "rkJx3f8H9QQT"
      }
    }
  ]
}